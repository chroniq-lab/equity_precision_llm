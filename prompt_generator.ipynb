{
 "cells": [
  {
   "cell_type": "code",
   "execution_count": 1,
   "metadata": {},
   "outputs": [
    {
     "ename": "ModuleNotFoundError",
     "evalue": "No module named 'sklearn'",
     "output_type": "error",
     "traceback": [
      "\u001b[0;31m---------------------------------------------------------------------------\u001b[0m",
      "\u001b[0;31mModuleNotFoundError\u001b[0m                       Traceback (most recent call last)",
      "Cell \u001b[0;32mIn[1], line 5\u001b[0m\n\u001b[1;32m      2\u001b[0m \u001b[38;5;28;01mimport\u001b[39;00m \u001b[38;5;21;01mnumpy\u001b[39;00m \u001b[38;5;28;01mas\u001b[39;00m \u001b[38;5;21;01mnp\u001b[39;00m\n\u001b[1;32m      3\u001b[0m \u001b[38;5;28;01mimport\u001b[39;00m \u001b[38;5;21;01mos\u001b[39;00m \u001b[38;5;28;01mas\u001b[39;00m \u001b[38;5;21;01mos\u001b[39;00m\n\u001b[0;32m----> 5\u001b[0m \u001b[38;5;28;01mimport\u001b[39;00m \u001b[38;5;21;01msklearn\u001b[39;00m \u001b[38;5;28;01mas\u001b[39;00m \u001b[38;5;21;01msklearn\u001b[39;00m\n\u001b[1;32m      7\u001b[0m \u001b[38;5;28;01mimport\u001b[39;00m \u001b[38;5;21;01mmatplotlib\u001b[39;00m\u001b[38;5;21;01m.\u001b[39;00m\u001b[38;5;21;01mpyplot\u001b[39;00m \u001b[38;5;28;01mas\u001b[39;00m \u001b[38;5;21;01mplt\u001b[39;00m\n\u001b[1;32m      8\u001b[0m \u001b[38;5;28;01mimport\u001b[39;00m \u001b[38;5;21;01mseaborn\u001b[39;00m \u001b[38;5;28;01mas\u001b[39;00m \u001b[38;5;21;01msns\u001b[39;00m\n",
      "\u001b[0;31mModuleNotFoundError\u001b[0m: No module named 'sklearn'"
     ]
    }
   ],
   "source": [
    "import pandas as pd \n",
    "import numpy as np\n",
    "import os as os\n",
    "\n",
    "import sklearn as sklearn\n",
    "\n",
    "import matplotlib.pyplot as plt\n",
    "import seaborn as sns\n",
    "from kneed import KneeLocator\n",
    "from sklearn.cluster import KMeans\n",
    "from sklearn.metrics import silhouette_score\n",
    "from sklearn.preprocessing import StandardScaler\n",
    "\n",
    "if os.getlogin()==\"JVARGH7\":\n",
    "    path_equity_precision_llm_folder = \"C:/Cloud/OneDrive - Emory University/Papers/Global Equity in Diabetes Precision Medicine LLM\"\n",
    "    path_equity_precision_llm_repo =  'C:/code/external/equity_precision_llm'\n",
    "if os.getlogin()=='aamnasoniwala':\n",
    "    path_equity_precision_llm_folder = '/Users/aamnasoniwala/OneDrive-EmoryUniversity/Global Equity in Diabetes Precision Medicine LLM'\n",
    "    path_equity_precision_llm_repo = '/Users/aamnasoniwala/code/equity_precision_llm'\n",
    "\n"
   ]
  },
  {
   "cell_type": "code",
   "execution_count": 2,
   "metadata": {},
   "outputs": [
    {
     "name": "stdout",
     "output_type": "stream",
     "text": [
      "0\n",
      "p1v1\n"
     ]
    },
    {
     "ename": "NameError",
     "evalue": "name 'path_equity_precision_llm_repo' is not defined",
     "output_type": "error",
     "traceback": [
      "\u001b[0;31m---------------------------------------------------------------------------\u001b[0m",
      "\u001b[0;31mNameError\u001b[0m                                 Traceback (most recent call last)",
      "Cell \u001b[0;32mIn[2], line 11\u001b[0m\n\u001b[1;32m      9\u001b[0m \u001b[38;5;28mprint\u001b[39m(prompt_file)\n\u001b[1;32m     10\u001b[0m \u001b[38;5;66;03m# Read the files as a list and save it to base_prompts\u001b[39;00m\n\u001b[0;32m---> 11\u001b[0m file_path \u001b[38;5;241m=\u001b[39m \u001b[43mpath_equity_precision_llm_repo\u001b[49m \u001b[38;5;241m+\u001b[39m \u001b[38;5;124m\"\u001b[39m\u001b[38;5;124m/prompts/\u001b[39m\u001b[38;5;124m\"\u001b[39m \u001b[38;5;241m+\u001b[39m prompt_file \u001b[38;5;241m+\u001b[39m \u001b[38;5;124m'\u001b[39m\u001b[38;5;124m.txt\u001b[39m\u001b[38;5;124m'\u001b[39m\n\u001b[1;32m     14\u001b[0m \u001b[38;5;28;01mwith\u001b[39;00m \u001b[38;5;28mopen\u001b[39m(file_path, \u001b[38;5;124m\"\u001b[39m\u001b[38;5;124mr\u001b[39m\u001b[38;5;124m\"\u001b[39m) \u001b[38;5;28;01mas\u001b[39;00m file:\n\u001b[1;32m     15\u001b[0m     \u001b[38;5;66;03m# Create a base_prompts list of the three prompts saved as an index \u001b[39;00m\n\u001b[1;32m     16\u001b[0m     \u001b[38;5;66;03m# base_prompts[0]: p1v1.txt\u001b[39;00m\n\u001b[1;32m     17\u001b[0m     \u001b[38;5;66;03m# base_prompts[1]: p2v1.txt\u001b[39;00m\n\u001b[1;32m     18\u001b[0m     \u001b[38;5;66;03m# base_prompts[2]: p3v1.txt\u001b[39;00m\n\u001b[1;32m     19\u001b[0m     base_prompts[index] \u001b[38;5;241m=\u001b[39m file\u001b[38;5;241m.\u001b[39mread()\n",
      "\u001b[0;31mNameError\u001b[0m: name 'path_equity_precision_llm_repo' is not defined"
     ]
    }
   ],
   "source": [
    "# Read base_prompt files from the prompts folder\n",
    "\n",
    "base_prompt_files = ['p1v1', 'p2v1', 'p3v1']\n",
    "\n",
    "base_prompts = []\n",
    "\n",
    "for index, prompt_file in enumerate(base_prompt_files):\n",
    "    print(index)\n",
    "    print(prompt_file)\n",
    "    # Read the files as a list and save it to base_prompts\n",
    "    file_path = path_equity_precision_llm_repo + \"/prompts/\" + prompt_file + '.txt'\n",
    "\n",
    "\n",
    "    with open(file_path, \"r\") as file:\n",
    "        # Create a base_prompts list of the three prompts saved as an index \n",
    "        # base_prompts[0]: p1v1.txt\n",
    "        # base_prompts[1]: p2v1.txt\n",
    "        # base_prompts[2]: p3v1.txt\n",
    "        base_prompts[index] = file.read()\n",
    "\n",
    "print(base_prompts)\n",
    "    \n",
    "\n"
   ]
  },
  {
   "cell_type": "markdown",
   "metadata": {},
   "source": [
    "Read the PMID's abstract, title and mesh terms"
   ]
  },
  {
   "cell_type": "code",
   "execution_count": null,
   "metadata": {},
   "outputs": [],
   "source": [
    "def prompt_generator(PMID, base_prompt_list, excel_path):\n",
    "    print(PMID)\n",
    "\n",
    "    # Step 1: Read the excel sheet\n",
    "df = pd.read_excel(excel_path)\n",
    "\n",
    "    # Step 2: Filter the excel sheet for the PMID, and create 3 variables: title, abstract, mesh\n",
    "record = df[df['PMID'] == PMID].iloc[0]\n",
    "title = record['Title']\n",
    "abstract = record['Abstract']\n",
    "mesh = record['MeSH Terms']\n",
    "\n",
    "    # Step 3: Generate the prompt based on the PMID and source_population\n",
    "prompt_template = base_prompt_list[2] \n",
    "\n",
    "    # For base_prompt_list[2] (i.e. p3vN.txt) \n",
    "    # Replace <INSERT TITLE> with the title (title)\n",
    "    # Replace <INSERT ABSTRACT> with the abstract (abstract)\n",
    "    # Replace <INSERT MESH TERMS> with the MeSH terms (mesh)\n",
    "\n",
    "    # Use regular expressions to replace the text in the base prompt with the title, abstract, and MeSH terms\n",
    "prompt_new = re.sub(r\"<INSERT TITLE>\", title, prompt_template)\n",
    "prompt_new = re.sub(r\"<INSERT ABSTRACT>\", abstract, prompt_new)\n",
    "prompt_new = re.sub(r\"<INSERT MESH TERMS>\", mesh, prompt_new)\n",
    "    # Step 4: Return the prompt\n",
    "return prompt_new\n",
    "\n",
    "\n",
    "PMID = 15561964\n",
    "excel_path = \"/aamnasoniwala/Library/CloudStorage/OneDrive-Emory/Global Equity in Diabetes Precision Medicine LLM/llm training/Methods.xlsx\"\n",
    "prompt_pmid = prompt_generator(PMID,base_prompts, excel_path)\n",
    "\n",
    "# Create a directory for each PMID in the working folder\n",
    "pmid_folder = path_equity_precision_llm_folder + \"/working/\" + PMID \n",
    "os.makedirs(pmid_folder), exist_ok=True)\n",
    "\n",
    "file_path_p1_pmid = pmid_folder + \"/\" + base_prompt_files[0] + \"_\" + str(PMID) + \".txt\"\n",
    "file_path_p2_pmid = pmid_folder + \"/\" + base_prompt_files[1] + \"_\" + str(PMID) + \".txt\"\n",
    "file_path_p3_pmid = pmid_folder + \"/\" + base_prompt_files[2] + \"_\" + str(PMID) + \".txt\"\n",
    "\n",
    "\n",
    "\n",
    "# Because we are keeping p1vN, we save the original file\n",
    "with open(file_path_p1_pmid, \"w\") as file:\n",
    "    file.write(base_prompts[0])\n",
    "\n",
    "# Because we are keeping p2vN, we save the original file\n",
    "with open(file_path_p2_pmid, \"w\") as file:\n",
    "    file.write(base_prompts[1]) \n",
    "\n",
    "# Because we are modifying p3vN, we need to save the modified prompt to a new file\n",
    "with open(file_path_p3_pmid, \"w\") as file:\n",
    "    file.write(prompt_pmid)\n",
    "\n",
    "\n"
   ]
  }
 ],
 "metadata": {
  "kernelspec": {
   "display_name": "Python 3",
   "language": "python",
   "name": "python3"
  },
  "language_info": {
   "codemirror_mode": {
    "name": "ipython",
    "version": 3
   },
   "file_extension": ".py",
   "mimetype": "text/x-python",
   "name": "python",
   "nbconvert_exporter": "python",
   "pygments_lexer": "ipython3",
   "version": "3.13.0"
  }
 },
 "nbformat": 4,
 "nbformat_minor": 2
}
