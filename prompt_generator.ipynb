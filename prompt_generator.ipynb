{
 "cells": [
  {
   "cell_type": "code",
   "execution_count": 1,
   "metadata": {},
   "outputs": [],
   "source": [
    "import pandas as pd \n",
    "import numpy as np\n",
    "import os as os\n",
    "import sklearn as sklearn\n",
    "\n",
    "import matplotlib.pyplot as plt\n",
    "import seaborn as sns\n",
    "from kneed import KneeLocator\n",
    "from sklearn.cluster import KMeans\n",
    "from sklearn.metrics import silhouette_score\n",
    "from sklearn.preprocessing import StandardScaler\n",
    "\n",
    "if os.getlogin()==\"JVARGH7\":\n",
    "    path_equity_precision_llm_folder = \"C:/Cloud/OneDrive - Emory University/Papers/Global Equity in Diabetes Precision Medicine LLM\"\n",
    "    path_equity_precision_llm_repo =  'C:/code/external/equity_precision_llm'\n",
    "if os.getlogin()=='aamnasoniwala':\n",
    "    path_equity_precision_llm_folder = '/Users/aamnasoniwala/OneDrive-EmoryUniversity/Global Equity in Diabetes Precision Medicine LLM'\n",
    "    path_equity_precision_llm_repo = '/Users/aamnasoniwala/code/equity_precision_llm'\n",
    "\n"
   ]
  },
  {
   "cell_type": "code",
   "execution_count": 3,
   "metadata": {},
   "outputs": [
    {
     "name": "stdout",
     "output_type": "stream",
     "text": [
      "0\n",
      "p1v1\n",
      "1\n",
      "p2v1\n",
      "2\n",
      "p3v1\n",
      "['I am going to outline inclusion criteria for four categories: diabetes, precision medicine, correct source population, and primary study. \\n\\nPlease wait for me to prompt you on what to do based on these criteria.\\n', 'Here are the inclusion criteria:  \\n\\nDIABETES: Do not exclude any type of diabetes or prediabetes. \\n\\nPRECISION MEDICINE: Precision medicine is an assessment of genetic or metabolic state to guide preventive and therapeutic decisions in humans. Exclude epidemiological studies using traditional biomarkers only, focusing on omics (genomics, metabolomics, proteomics, lipidomics etc.) or multi-omics studies. \\n\\nCORRECT SOURCE POPULATION: The source population is correct if the population based on the prompt and the studyâ€™s geographic source population are the same. The source population refers to humans specifically, excluding plants and therapeutics that may originate in the GBD region. The options are Central Asia (CA), Central and Eastern Europe (CEE), East Asia (EA), Latin America & Caribbean (LAC), Middle East & North Africa (MENA), South East Asia & Pacific Islands (SEAP), South Asia (SA), Sub-Saharan Africa (SSA), the United States of America and Canada (NA), or Western Europe (WE). For this study, the correct source population should be <INSERT SOURCE POPULATION>. \\n\\nPRIMARY STUDY: All types of studies, other than meta-analysis and systematic reviews, were evaluated as primary studies. Although it may bias the studies towards counting contributions of large biorepositories, secondary analysis of previously collected datasets was also included since these generate novel insights into the pathophysiology of diabetes for source populations that these biorepositories sample from.\\n', 'Based on the title, abstract, and MeSH terms below and the previously described inclusion criteria, identify using \"yes\" or \"no\" as categorizations if the article is related to precision medicine, diabetes, correct source population, and primary study.  \\n\\nTitle: <INSERT TITLE>\\n\\nAbstract: <INSERT ABSTRACT>\\n\\nMeSH: <INSERT MESH TERMS>\\n\\nOrganize your analysis of this abstract in a table, with the following columns: article name, precision medicine, diabetes, correct source population, primary study.\\n']\n"
     ]
    }
   ],
   "source": [
    "# Read base_prompt files from the prompts folder\n",
    "\n",
    "base_prompt_files = ['p1v1', 'p2v1', 'p3v1']\n",
    "\n",
    "base_prompts = []\n",
    "\n",
    "for index, prompt_file in enumerate(base_prompt_files):\n",
    "    print(index)\n",
    "    print(prompt_file)\n",
    "    # Read the files as a list and save it to base_prompts\n",
    "    file_path = path_equity_precision_llm_repo + \"/prompts/\" + prompt_file + '.txt'\n",
    "\n",
    "\n",
    "    with open(file_path, \"r\") as file:\n",
    "        # Create a base_prompts list of the three prompts saved as an index \n",
    "        # base_prompts[0]: p1v1.txt\n",
    "        # base_prompts[1]: p2v1.txt\n",
    "        # base_prompts[2]: p3v1.txt\n",
    "        base_prompts.append(file.read())\n",
    "\n",
    "print(base_prompts)\n",
    "    \n",
    "\n"
   ]
  },
  {
   "cell_type": "markdown",
   "metadata": {},
   "source": [
    "Read the PMID's abstract, title and mesh terms"
   ]
  },
  {
   "cell_type": "code",
   "execution_count": 10,
   "metadata": {},
   "outputs": [
    {
     "name": "stdout",
     "output_type": "stream",
     "text": [
      "22744164\n"
     ]
    }
   ],
   "source": [
    "import re as re # Regular expressions\n",
    "\n",
    "\n",
    "def prompt_generator(PMID, base_prompt_list, excel_path):\n",
    "    print(PMID)\n",
    "\n",
    "    # Step 1: Read the excel sheet\n",
    "    df = pd.read_excel(excel_path)\n",
    "\n",
    "    # Step 2: Filter the excel sheet for the PMID, and create 3 variables: title, abstract, mesh\n",
    "    record = df[df['PMID'] == PMID].iloc[0]\n",
    "    title = record['Title']\n",
    "    abstract = record['Abstract']\n",
    "    mesh = record['MeSH']\n",
    "\n",
    "    # Step 3: Generate the prompt based on the PMID and source_population\n",
    "    prompt_template = base_prompt_list[2] \n",
    "\n",
    "    # For base_prompt_list[2] (i.e. p3vN.txt) \n",
    "    # Replace <INSERT TITLE> with the title (title)\n",
    "    # Replace <INSERT ABSTRACT> with the abstract (abstract)\n",
    "    # Replace <INSERT MESH TERMS> with the MeSH terms (mesh)\n",
    "\n",
    "    # Use regular expressions to replace the text in the base prompt with the title, abstract, and MeSH terms\n",
    "    prompt_new = re.sub(r\"<INSERT TITLE>\", title, prompt_template)\n",
    "    prompt_new = re.sub(r\"<INSERT ABSTRACT>\", abstract, prompt_new)\n",
    "    prompt_new = re.sub(r\"<INSERT MESH TERMS>\", mesh, prompt_new)\n",
    "    # Step 4: Return the prompt\n",
    "    return prompt_new\n",
    "\n",
    "\n",
    "PMID = 22744164\n",
    "excel_path = path_equity_precision_llm_folder + '/llm training/Methods.xlsx'\n",
    "prompt_pmid = prompt_generator(PMID,base_prompts, excel_path)\n",
    "\n",
    "# Create a directory for each PMID in the working folder\n",
    "pmid_folder = path_equity_precision_llm_folder + \"/working/\" + str(PMID) \n",
    "os.makedirs(pmid_folder, exist_ok=True)\n",
    "\n",
    "file_path_p1_pmid = pmid_folder + \"/\" + base_prompt_files[0] + \"_\" + str(PMID) + \".txt\"\n",
    "file_path_p2_pmid = pmid_folder + \"/\" + base_prompt_files[1] + \"_\" + str(PMID) + \".txt\"\n",
    "file_path_p3_pmid = pmid_folder + \"/\" + base_prompt_files[2] + \"_\" + str(PMID) + \".txt\"\n",
    "\n",
    "\n",
    "\n",
    "# Because we are keeping p1vN, we save the original file\n",
    "with open(file_path_p1_pmid, \"w\") as file:\n",
    "    file.write(base_prompts[0])\n",
    "\n",
    "# Because we are keeping p2vN, we save the original file\n",
    "with open(file_path_p2_pmid, \"w\") as file:\n",
    "    file.write(base_prompts[1]) \n",
    "\n",
    "# Because we are modifying p3vN, we need to save the modified prompt to a new file\n",
    "with open(file_path_p3_pmid, \"w\") as file:\n",
    "    file.write(prompt_pmid)\n",
    "\n",
    "\n"
   ]
  }
 ],
 "metadata": {
  "kernelspec": {
   "display_name": "Python 3",
   "language": "python",
   "name": "python3"
  },
  "language_info": {
   "codemirror_mode": {
    "name": "ipython",
    "version": 3
   },
   "file_extension": ".py",
   "mimetype": "text/x-python",
   "name": "python",
   "nbconvert_exporter": "python",
   "pygments_lexer": "ipython3",
   "version": "3.11.4"
  }
 },
 "nbformat": 4,
 "nbformat_minor": 2
}
