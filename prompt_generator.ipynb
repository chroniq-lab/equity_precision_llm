{
 "cells": [
  {
   "cell_type": "code",
   "execution_count": 1,
   "metadata": {},
   "outputs": [],
   "source": [
    "import pandas as pd \n",
    "import numpy as np\n",
    "import os as os\n",
    "\n",
    "import sklearn as sklearn\n",
    "\n",
    "import matplotlib.pyplot as plt\n",
    "import seaborn as sns\n",
    "from kneed import KneeLocator\n",
    "from sklearn.cluster import KMeans\n",
    "from sklearn.metrics import silhouette_score\n",
    "from sklearn.preprocessing import StandardScaler\n",
    "\n",
    "if os.getlogin()==\"JVARGH7\":\n",
    "    path_equity_precision_llm_folder = \"C:/Cloud/OneDrive - Emory University/Papers/Global Equity in Diabetes Precision Medicine LLM\"\n",
    "    path_equity_precision_llm_repo =  'C:/code/external/equity_precision_llm'\n",
    "if os.getlogin()=='aamnasoniwala':\n",
    "    path_equity_precision_llm_folder = '/Users/aamnasoniwala/OneDrive-EmoryUniversity/Global Equity in Diabetes Precision Medicine LLM'\n",
    "    path_equity_precision_llm_repo = '/Users/aamnasoniwala/code/equity_precision_llm'\n",
    "\n"
   ]
  },
  {
   "cell_type": "code",
   "execution_count": 16,
   "metadata": {},
   "outputs": [
    {
     "name": "stdout",
     "output_type": "stream",
     "text": [
      "0\n",
      "p1v1.txt\n"
     ]
    },
    {
     "ename": "TypeError",
     "evalue": "list indices must be integers or slices, not list",
     "output_type": "error",
     "traceback": [
      "\u001b[1;31m---------------------------------------------------------------------------\u001b[0m",
      "\u001b[1;31mTypeError\u001b[0m                                 Traceback (most recent call last)",
      "\u001b[1;32mc:\\code\\external\\equity_precision_llm\\prompt_generator.ipynb Cell 2\u001b[0m line \u001b[0;36m1\n\u001b[0;32m     <a href='vscode-notebook-cell:/c%3A/code/external/equity_precision_llm/prompt_generator.ipynb#W1sZmlsZQ%3D%3D?line=10'>11</a>\u001b[0m     file_path \u001b[39m=\u001b[39m path_equity_precision_llm_repo \u001b[39m+\u001b[39m \u001b[39m\"\u001b[39m\u001b[39m/prompts/\u001b[39m\u001b[39m\"\u001b[39m \u001b[39m+\u001b[39m prompt_file\n\u001b[0;32m     <a href='vscode-notebook-cell:/c%3A/code/external/equity_precision_llm/prompt_generator.ipynb#W1sZmlsZQ%3D%3D?line=12'>13</a>\u001b[0m     \u001b[39mwith\u001b[39;00m \u001b[39mopen\u001b[39m(file_path, \u001b[39m\"\u001b[39m\u001b[39mr\u001b[39m\u001b[39m\"\u001b[39m) \u001b[39mas\u001b[39;00m file:\n\u001b[1;32m---> <a href='vscode-notebook-cell:/c%3A/code/external/equity_precision_llm/prompt_generator.ipynb#W1sZmlsZQ%3D%3D?line=13'>14</a>\u001b[0m         base_prompts[[index]] \u001b[39m=\u001b[39m file\u001b[39m.\u001b[39mread()\n\u001b[0;32m     <a href='vscode-notebook-cell:/c%3A/code/external/equity_precision_llm/prompt_generator.ipynb#W1sZmlsZQ%3D%3D?line=15'>16</a>\u001b[0m \u001b[39mprint\u001b[39m(base_prompts)\n",
      "\u001b[1;31mTypeError\u001b[0m: list indices must be integers or slices, not list"
     ]
    }
   ],
   "source": [
    "# Read base_prompt files from the prompts folder\n",
    "\n",
    "base_prompt_files = ['p1v1', 'p2v1', 'p3v1']\n",
    "\n",
    "base_prompts = []\n",
    "\n",
    "for index, prompt_file in enumerate(base_prompt_files):\n",
    "    print(index)\n",
    "    print(prompt_file)\n",
    "    # Read the files as a list and save it to base_prompts\n",
    "    file_path = path_equity_precision_llm_repo + \"/prompts/\" + prompt_file + '.txt'\n",
    "\n",
    "\n",
    "    with open(file_path, \"r\") as file:\n",
    "        # Create a base_prompts list of the three prompts saved as an index \n",
    "        # base_prompts[0]: p1v1.txt\n",
    "        # base_prompts[1]: p2v1.txt\n",
    "        # base_prompts[2]: p3v1.txt\n",
    "        base_prompts[[index]] = file.read()\n",
    "\n",
    "print(base_prompts)\n",
    "    \n",
    "\n"
   ]
  },
  {
   "cell_type": "markdown",
   "metadata": {},
   "source": [
    "Read the PMID's abstract, title and mesh terms"
   ]
  },
  {
   "cell_type": "code",
   "execution_count": null,
   "metadata": {},
   "outputs": [],
   "source": [
    "def prompt_generator(PMID, base_prompt_list):\n",
    "    print(PMID)\n",
    "\n",
    "    # Step 1: Read the excel sheet\n",
    "\n",
    "\n",
    "    # Step 2: Filter the excel sheet for the PMID, and create 3 variables: title, abstract, mesh\n",
    "\n",
    "\n",
    "    # Step 3: Generate the prompt based on the PMID and source_population\n",
    "    \n",
    "    # For base_prompt_list[2] (i.e. p3vN.txt) \n",
    "    # Replace <INSERT TITLE> with the title (title)\n",
    "    # Replace <INSERT ABSTRACT> with the abstract (abstract)\n",
    "    # Replace <INSERT MESH TERMS> with the MeSH terms (mesh)\n",
    "\n",
    "    # Use regular expressions to replace the text in the base prompt with the title, abstract, and MeSH terms\n",
    "\n",
    "    # Step 4: Return the prompt\n",
    "\n",
    "\n",
    "PMID = 3333333\n",
    "prompt_pmid = prompt_generator(PMID,base_prompts)\n",
    "\n",
    "\n",
    "# Create a directory for each PMID in the working folder\n",
    "pmid_folder = path_equity_precision_llm_folder + \"/working/\" + PMID \n",
    "os.makedirs(os.path.dirname(pmid_folder), exist_ok=True)\n",
    "\n",
    "file_path_p1_pmid = pmid_folder + \"/\" + base_prompt_files[0] + \"_\" + PMID + \".txt\"\n",
    "file_path_p2_pmid = pmid_folder + \"/\" + base_prompt_files[1] + \"_\" + PMID + \".txt\"\n",
    "file_path_p3_pmid = pmid_folder + \"/\" + base_prompt_files[2] + \"_\" + PMID + \".txt\"\n",
    "\n",
    "\n",
    "\n",
    "# Because we are keeping p1vN, we save the original file\n",
    "with open(file_path_p1_pmid, \"w\") as file:\n",
    "    file.write(base_prompts[0])\n",
    "\n",
    "# Because we are keeping p2vN, we save the original file\n",
    "with open(file_path_p2_pmid, \"w\") as file:\n",
    "    file.write(base_prompts[1]) \n",
    "\n",
    "# Because we are modifying p3vN, we need to save the modified prompt to a new file\n",
    "with open(file_path_p3_pmid, \"w\") as file:\n",
    "    file.write(prompt_pmid)\n",
    "\n",
    "\n"
   ]
  }
 ],
 "metadata": {
  "kernelspec": {
   "display_name": "Python 3",
   "language": "python",
   "name": "python3"
  },
  "language_info": {
   "codemirror_mode": {
    "name": "ipython",
    "version": 3
   },
   "file_extension": ".py",
   "mimetype": "text/x-python",
   "name": "python",
   "nbconvert_exporter": "python",
   "pygments_lexer": "ipython3",
   "version": "3.11.4"
  }
 },
 "nbformat": 4,
 "nbformat_minor": 2
}
