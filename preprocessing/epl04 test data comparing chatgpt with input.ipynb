{
 "cells": [
  {
   "cell_type": "code",
   "execution_count": null,
   "metadata": {},
   "outputs": [],
   "source": [
    "import pandas as pd \n",
    "import numpy as np\n",
    "import sklearn as sklearn\n",
    "import os as os\n",
    "\n",
    "import matplotlib.pyplot as plt\n",
    "import seaborn as sns\n",
    "from kneed import KneeLocator\n",
    "from sklearn.cluster import KMeans\n",
    "from sklearn.metrics import silhouette_score\n",
    "from sklearn.preprocessing import StandardScaler\n",
    "import re as re\n",
    "\n",
    "if os.getlogin()==\"JVARGH7\":\n",
    "    path_equity_precision_llm_folder = \"C:/Cloud/OneDrive - Emory University/Papers/Global Equity in Diabetes Precision Medicine LLM\"\n",
    "    path_equity_precision_llm_repo =  'C:/code/external/equity_precision_llm'\n",
    "\n",
    "elif os.getlogin()=='aamnasoniwala':\n",
    "    path_equity_precision_llm_folder = \"/Users/aamnasoniwala/Library/CloudStorage/OneDrive-Emory/Global Equity in Diabetes Precision Medicine LLM\"\n",
    "    path_equity_precision_llm_repo = '/Users/aamnasoniwala/code/equity_precision_llm'\n",
    "\n",
    "excel_path = path_equity_precision_llm_folder + \"\\llm training\\Test Data Splits\\Test Part \"\n",
    "# path_equity_precision_llm_repo = os.path.abspath(\"\").replace(\"preprocessing\", \"\")\n",
    "\n",
    "execfile(path_equity_precision_llm_repo + \"/functions/crosstab_summary.py\")"
   ]
  },
  {
   "cell_type": "code",
   "execution_count": null,
   "metadata": {},
   "outputs": [],
   "source": [
    "# path_equity_precision_llm_folder = \"/Users/aamnasoniwala/Library/CloudStorage/OneDrive-Emory/Global Equity in Diabetes Precision Medicine LLM\"\n",
    "# path_equity_precision_llm_repo = '/Users/aamnasoniwala/code/equity_precision_llm'\n",
    "\n",
    "# excel_path_training = path_equity_precision_llm_folder + \"/llm training/Methods.xlsx\"\n",
    "# excel_path_development = path_equity_precision_llm_folder + \"/llm training/Development Data.xlsx\"\n",
    "excel_path_test = path_equity_precision_llm_folder + \"/llm training/Test Data.xlsx\"\n",
    "# path_equity_precision_llm_repo = os.path.abspath(\"\").replace(\"preprocessing\", \"\")\n",
    "\n",
    "execfile(path_equity_precision_llm_repo + \"/functions/clean_input.py\")\n",
    "execfile(path_equity_precision_llm_repo + \"/functions/crosstab_summary.py\")"
   ]
  },
  {
   "cell_type": "code",
   "execution_count": null,
   "metadata": {},
   "outputs": [],
   "source": [
    "# input_training = clean_input(input_path = excel_path_training, sheet_name='Training Data')\n",
    "# input_development = clean_input(input_path = excel_path_development, sheet_name='Sheet1')\n",
    "input_test = clean_input(input_path = excel_path_test, sheet_name='Sheet1')"
   ]
  },
  {
   "cell_type": "code",
   "execution_count": null,
   "metadata": {},
   "outputs": [],
   "source": [
    "results = pd.DataFrame()\n",
    "for scenario in range(1,n_json_splits+1):\n",
    "    results = pd.concat([results,pd.read_csv(path_equity_precision_llm_folder + '/llm training/Test Data Splits/Test Part '+ str(part) +'_results.csv')])\n",
    "merged_df_test = input_test.merge(results, left_on='PMID', right_on='pmid', how='left')\n",
    "merged_df_test['source_population_match'] = merged_df_test.apply(lambda row: bool(re.search('(^|\\s)' + str(row['gpt_source_population']),str(row['orig_source_population']))), axis=1)\n",
    "\n",
    "    # Crosstab summary for precision medicine\n",
    "summary_precision_medicine = crosstab_summary(merged_df_test,truth='orig_precision_medicine',test='gpt_precision_medicine')\n",
    "summary_diabetes = crosstab_summary(merged_df_test,truth='orig_diabetes',test='gpt_diabetes')\n",
    "summary_primary_study = crosstab_summary(merged_df_test,truth='orig_primary_study',test='gpt_primary_study')\n",
    "\n",
    "summary_precision_medicine['variable'] = 'Precision Medicine'\n",
    "summary_diabetes['variable'] = 'Diabetes'\n",
    "summary_primary_study['variable'] = 'Primary Study'  \n",
    "\n",
    "t_source_population = pd.crosstab(merged_df_training['source_population_match'], merged_df_training['orig_source_population'])\n",
    "\n",
    "prop_correct_source_population = t_source_population.loc[True].sum()/t_source_population.sum().sum() \n",
    "prop_correct_source_population\n",
    "\n",
    "summary_source_population = pd.DataFrame({'variable': 'Source Population', 'Accuracy': prop_correct_source_population}, index=[0])\n",
    "\n",
    "\n",
    "df_summary = pd.concat([summary_precision_medicine, summary_diabetes, summary_primary_study,summary_source_population])\n",
    "\n",
    "\n",
    "df_summary.to_csv(path_equity_precision_llm_repo + '/preprocessing/epl03_combined output_Test.csv', index=False)"
   ]
  }
 ],
 "metadata": {
  "language_info": {
   "name": "python"
  }
 },
 "nbformat": 4,
 "nbformat_minor": 2
}
