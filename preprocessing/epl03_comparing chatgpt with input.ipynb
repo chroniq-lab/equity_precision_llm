{
 "cells": [
  {
   "cell_type": "code",
   "execution_count": 26,
   "metadata": {},
   "outputs": [],
   "source": [
    "import pandas as pd \n",
    "import numpy as np\n",
    "import sklearn as sklearn\n",
    "import os as os\n",
    "\n",
    "import matplotlib.pyplot as plt\n",
    "import seaborn as sns\n",
    "from kneed import KneeLocator\n",
    "from sklearn.cluster import KMeans\n",
    "from sklearn.metrics import silhouette_score\n",
    "from sklearn.preprocessing import StandardScaler\n",
    "import re as re\n",
    "\n",
    "if os.getlogin()==\"JVARGH7\":\n",
    "    path_equity_precision_llm_folder = \"C:/Cloud/OneDrive - Emory University/Papers/Global Equity in Diabetes Precision Medicine LLM\"\n",
    "    path_equity_precision_llm_repo =  'C:/code/external/equity_precision_llm'\n",
    "\n",
    "elif os.getlogin()=='aamnasoniwala':\n",
    "    path_equity_precision_llm_folder = \"/Users/aamnasoniwala/Library/CloudStorage/OneDrive-Emory/Global Equity in Diabetes Precision Medicine LLM\"\n",
    "    path_equity_precision_llm_repo = '/Users/aamnasoniwala/code/equity_precision_llm'\n",
    "\n",
    "excel_path = path_equity_precision_llm_folder + \"/llm training/Methods.xlsx\"\n",
    "# path_equity_precision_llm_repo = os.path.abspath(\"\").replace(\"preprocessing\", \"\")\n",
    "\n",
    "execfile(path_equity_precision_llm_repo + \"/functions/crosstab_summary.py\")\n"
   ]
  },
  {
   "cell_type": "code",
   "execution_count": 27,
   "metadata": {},
   "outputs": [],
   "source": [
    "# path_equity_precision_llm_folder = \"/Users/aamnasoniwala/Library/CloudStorage/OneDrive-Emory/Global Equity in Diabetes Precision Medicine LLM\"\n",
    "# path_equity_precision_llm_repo = '/Users/aamnasoniwala/code/equity_precision_llm'\n",
    "\n",
    "excel_path_training = path_equity_precision_llm_folder + \"/llm training/Methods.xlsx\"\n",
    "excel_path_development = path_equity_precision_llm_folder + \"/llm training/Development Data.xlsx\"\n",
    "excel_path_test = path_equity_precision_llm_folder + \"/llm training/Test Data.xlsx\"\n",
    "# path_equity_precision_llm_repo = os.path.abspath(\"\").replace(\"preprocessing\", \"\")\n",
    "\n",
    "execfile(path_equity_precision_llm_repo + \"/functions/clean_input.py\")\n",
    "execfile(path_equity_precision_llm_repo + \"/functions/crosstab_summary.py\")"
   ]
  },
  {
   "cell_type": "code",
   "execution_count": 28,
   "metadata": {},
   "outputs": [],
   "source": [
    "input_training = clean_input(input_path = excel_path_training, sheet_name='Training Data')\n",
    "input_development = clean_input(input_path = excel_path_development, sheet_name='Sheet1')\n",
    "input_test = clean_input(input_path = excel_path_test, sheet_name='Sheet1')\n"
   ]
  },
  {
   "cell_type": "markdown",
   "metadata": {},
   "source": [
    "### Running different scenarios for Training (1 to 4)"
   ]
  },
  {
   "cell_type": "code",
   "execution_count": 29,
   "metadata": {},
   "outputs": [],
   "source": [
    "combined_output_training = pd.DataFrame()\n",
    "for scenario in range(1,5):\n",
    "    results = pd.read_csv(path_equity_precision_llm_folder + '/llm training/Training Scenario '+ str(scenario) +'_results.csv')\n",
    "    merged_df_training = input_training.merge(results, left_on='PMID', right_on='pmid', how='left')\n",
    "    merged_df_training['source_population_match'] = merged_df_training.apply(lambda row: bool(re.search('(^|\\s)' + str(row['gpt_source_population']),str(row['orig_source_population']))), axis=1)\n",
    "\n",
    "    # Crosstab summary for precision medicine\n",
    "    summary_precision_medicine = crosstab_summary(merged_df_training,truth='orig_precision_medicine',test='gpt_precision_medicine')\n",
    "    summary_diabetes = crosstab_summary(merged_df_training,truth='orig_diabetes',test='gpt_diabetes')\n",
    "    summary_primary_study = crosstab_summary(merged_df_training,truth='orig_primary_study',test='gpt_primary_study')\n",
    "\n",
    "    summary_precision_medicine['variable'] = 'Precision Medicine'\n",
    "    summary_diabetes['variable'] = 'Diabetes'\n",
    "    summary_primary_study['variable'] = 'Primary Study'  \n",
    "\n",
    "    t_source_population = pd.crosstab(merged_df_training['source_population_match'], merged_df_training['orig_source_population'])\n",
    "\n",
    "    prop_correct_source_population = t_source_population.loc[True].sum()/t_source_population.sum().sum() \n",
    "    prop_correct_source_population\n",
    "\n",
    "    summary_source_population = pd.DataFrame({'variable': 'Source Population', 'Accuracy': prop_correct_source_population}, index=[0])\n",
    "\n",
    "\n",
    "    df_summary = pd.concat([summary_precision_medicine, summary_diabetes, summary_primary_study,summary_source_population])\n",
    "    df_summary['Scenario'] = 'Scenario' + str(scenario)\n",
    "    combined_output_training = pd.concat([combined_output_training,df_summary],axis=0,ignore_index=True) \n",
    "\n",
    "combined_output_training.to_csv(path_equity_precision_llm_repo + '/preprocessing/epl03_combined output_Training.csv', index=False)"
   ]
  },
  {
   "cell_type": "markdown",
   "metadata": {},
   "source": [
    "### Running different scenarios for Development (1 to 4)"
   ]
  },
  {
   "cell_type": "code",
   "execution_count": 30,
   "metadata": {},
   "outputs": [],
   "source": [
    "combined_output_development = pd.DataFrame()\n",
    "for scenario in range(1,5):\n",
    "    results = pd.read_csv(path_equity_precision_llm_folder + '/llm training/Development Scenario '+ str(scenario) +'_results.csv')\n",
    "    merged_df_development = input_development.merge(results, left_on='PMID', right_on='pmid', how='left')\n",
    "    merged_df_development['source_population_match'] = merged_df_development.apply(lambda row: bool(re.search('(^|\\s)' + str(row['gpt_source_population']),str(row['orig_source_population']))), axis=1)\n",
    "\n",
    "    # Crosstab summary for precision medicine\n",
    "    summary_precision_medicine = crosstab_summary(merged_df_development,truth='orig_precision_medicine',test='gpt_precision_medicine')\n",
    "    summary_diabetes = crosstab_summary(merged_df_development,truth='orig_diabetes',test='gpt_diabetes')\n",
    "    summary_primary_study = crosstab_summary(merged_df_development,truth='orig_primary_study',test='gpt_primary_study')\n",
    "\n",
    "    summary_precision_medicine['variable'] = 'Precision Medicine'\n",
    "    summary_diabetes['variable'] = 'Diabetes'\n",
    "    summary_primary_study['variable'] = 'Primary Study'  \n",
    "\n",
    "    t_source_population = pd.crosstab(merged_df_training['source_population_match'], merged_df_training['orig_source_population'])\n",
    "\n",
    "    prop_correct_source_population = t_source_population.loc[True].sum()/t_source_population.sum().sum() \n",
    "    prop_correct_source_population\n",
    "\n",
    "    summary_source_population = pd.DataFrame({'variable': 'Source Population', 'Accuracy': prop_correct_source_population}, index=[0])\n",
    "\n",
    "\n",
    "    df_summary = pd.concat([summary_precision_medicine, summary_diabetes, summary_primary_study,summary_source_population])\n",
    "    df_summary['Scenario'] = 'Scenario' + str(scenario)\n",
    "    combined_output_development = pd.concat([combined_output_development,df_summary],axis=0,ignore_index=True) \n",
    "\n",
    "combined_output_development.to_csv(path_equity_precision_llm_repo + '/preprocessing/epl03_combined output_Development.csv', index=False)"
   ]
  },
  {
   "cell_type": "markdown",
   "metadata": {},
   "source": [
    "### Combining different outputs for Test (1 : n_json_splits)"
   ]
  },
  {
   "cell_type": "code",
   "execution_count": null,
   "metadata": {},
   "outputs": [],
   "source": [
    "results = pd.DataFrame()\n",
    "for scenario in range(1,n_json_splits+1):\n",
    "    results = pd.concat([results,pd.read_csv(path_equity_precision_llm_folder + '/llm training/Test Data Splits/Test Part '+ str(part) +'_results.csv')])\n",
    "merged_df_test = input_development.merge(results, left_on='PMID', right_on='pmid', how='left')\n",
    "merged_df_test['source_population_match'] = merged_df_test.apply(lambda row: bool(re.search('(^|\\s)' + str(row['gpt_source_population']),str(row['orig_source_population']))), axis=1)\n",
    "\n",
    "    # Crosstab summary for precision medicine\n",
    "summary_precision_medicine = crosstab_summary(merged_df_test,truth='orig_precision_medicine',test='gpt_precision_medicine')\n",
    "summary_diabetes = crosstab_summary(merged_df_test,truth='orig_diabetes',test='gpt_diabetes')\n",
    "summary_primary_study = crosstab_summary(merged_df_test,truth='orig_primary_study',test='gpt_primary_study')\n",
    "\n",
    "summary_precision_medicine['variable'] = 'Precision Medicine'\n",
    "summary_diabetes['variable'] = 'Diabetes'\n",
    "summary_primary_study['variable'] = 'Primary Study'  \n",
    "\n",
    "t_source_population = pd.crosstab(merged_df_training['source_population_match'], merged_df_training['orig_source_population'])\n",
    "\n",
    "prop_correct_source_population = t_source_population.loc[True].sum()/t_source_population.sum().sum() \n",
    "prop_correct_source_population\n",
    "\n",
    "summary_source_population = pd.DataFrame({'variable': 'Source Population', 'Accuracy': prop_correct_source_population}, index=[0])\n",
    "\n",
    "\n",
    "df_summary = pd.concat([summary_precision_medicine, summary_diabetes, summary_primary_study,summary_source_population])\n",
    "\n",
    "\n",
    "df_summary.to_csv(path_equity_precision_llm_repo + '/preprocessing/epl03_combined output_Test.csv', index=False)"
   ]
  },
  {
   "cell_type": "code",
   "execution_count": null,
   "metadata": {},
   "outputs": [],
   "source": []
  }
 ],
 "metadata": {
  "kernelspec": {
   "display_name": "Python 3",
   "language": "python",
   "name": "python3"
  },
  "language_info": {
   "codemirror_mode": {
    "name": "ipython",
    "version": 3
   },
   "file_extension": ".py",
   "mimetype": "text/x-python",
   "name": "python",
   "nbconvert_exporter": "python",
   "pygments_lexer": "ipython3",
   "version": "3.11.4"
  }
 },
 "nbformat": 4,
 "nbformat_minor": 2
}
