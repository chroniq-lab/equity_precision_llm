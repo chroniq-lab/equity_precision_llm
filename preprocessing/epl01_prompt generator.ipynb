{
 "cells": [
  {
   "cell_type": "markdown",
   "metadata": {},
   "source": [
    "Read the PMID's abstract, title and mesh terms"
   ]
  },
  {
   "cell_type": "code",
   "execution_count": 1,
   "metadata": {},
   "outputs": [
    {
     "ename": "NameError",
     "evalue": "name 'path_equity_precision_llm_folder' is not defined",
     "output_type": "error",
     "traceback": [
      "\u001b[0;31m---------------------------------------------------------------------------\u001b[0m",
      "\u001b[0;31mNameError\u001b[0m                                 Traceback (most recent call last)",
      "Cell \u001b[0;32mIn[1], line 24\u001b[0m\n\u001b[1;32m     20\u001b[0m     path_equity_precision_llm_folder \u001b[38;5;241m=\u001b[39m \u001b[38;5;124m'\u001b[39m\u001b[38;5;124m/Users/aamnasoniwala/Library/CloudStorage/OneDrive-Emory/Global Equity in Diabetes Precision Medicine LLM\u001b[39m\u001b[38;5;124m'\u001b[39m\n\u001b[1;32m     21\u001b[0m     path_equity_precision_llm_repo  \u001b[38;5;241m=\u001b[39m \u001b[38;5;124m'\u001b[39m\u001b[38;5;124mhttps://github.com/chroniq-lab/equity_precision_llm.git\u001b[39m\u001b[38;5;124m'\u001b[39m \u001b[38;5;66;03m#Please add your repo path here\u001b[39;00m\n\u001b[0;32m---> 24\u001b[0m excel_path \u001b[38;5;241m=\u001b[39m \u001b[43mpath_equity_precision_llm_folder\u001b[49m \u001b[38;5;241m+\u001b[39m \u001b[38;5;124m'\u001b[39m\u001b[38;5;124m/llm training/Methods.xlsx\u001b[39m\u001b[38;5;124m'\u001b[39m\n",
      "\u001b[0;31mNameError\u001b[0m: name 'path_equity_precision_llm_folder' is not defined"
     ]
    }
   ],
   "source": [
    "import pandas as pd \n",
    "import numpy as np\n",
    "import sklearn as sklearn\n",
    "import os as os\n",
    "\n",
    "import matplotlib.pyplot as plt\n",
    "import seaborn as sns\n",
    "from kneed import KneeLocator\n",
    "from sklearn.cluster import KMeans\n",
    "from sklearn.metrics import silhouette_score\n",
    "from sklearn.preprocessing import StandardScaler\n",
    "import re as re\n",
    "\n",
    "\n",
    "if os.getlogin()==\"JVARGH7\":\n",
    "    path_equity_precision_llm_folder = \"C:/Cloud/OneDrive - Emory University/Papers/Global Equity in Diabetes Precision Medicine LLM\"\n",
    "    path_equity_precision_llm_repo =  'C:/code/external/equity_precision_llm'\n",
    "\n",
    "if os.getlogin()=='aamnasoniwala':\n",
    "    path_equity_precision_llm_folder = '/Users/aamnasoniwala/Library/CloudStorage/OneDrive-Emory/Global Equity in Diabetes Precision Medicine LLM'\n",
    "    path_equity_precision_llm_repo  = 'https://github.com/chroniq-lab/equity_precision_llm.git' #Please add your repo path here\n",
    "\n",
    "\n",
    "excel_path = path_equity_precision_llm_folder + '/llm training/Methods.xlsx'\n",
    "\n"
   ]
  },
  {
   "cell_type": "code",
   "execution_count": 3,
   "metadata": {},
   "outputs": [],
   "source": [
    "\n",
    "import os\n",
    "\n",
    "execfile(path_equity_precision_llm_repo + \"/functions/prompt_generator.py\")\n",
    "execfile(path_equity_precision_llm_repo + \"/functions/base_prompt_append.py\")\n"
   ]
  },
  {
   "cell_type": "markdown",
   "metadata": {},
   "source": [
    "### Version 1"
   ]
  },
  {
   "cell_type": "code",
   "execution_count": 4,
   "metadata": {},
   "outputs": [],
   "source": [
    "base_prompt_files_v1 = ['p1v1', 'p2v1', 'p3v1']\n",
    "\n",
    "base_prompts_v1 = base_prompt_append(base_prompt_files_v1)\n",
    "\n",
    "# Example attempt\n",
    "prompt_pmid = prompt_generator(22744164, base_prompts_v1, excel_path)"
   ]
  },
  {
   "cell_type": "markdown",
   "metadata": {},
   "source": [
    "### Version 3"
   ]
  },
  {
   "cell_type": "code",
   "execution_count": 6,
   "metadata": {},
   "outputs": [],
   "source": [
    "base_prompt_files_v3 = ['p1v3', 'p2v3', 'p3v3']\n",
    "\n",
    "base_prompts_v3 = base_prompt_append(base_prompt_files_v3)\n",
    "\n",
    "# Example attempt\n",
    "prompt_pmid = prompt_generator(22744164, base_prompts_v1, excel_path)"
   ]
  },
  {
   "cell_type": "markdown",
   "metadata": {},
   "source": [
    "### Version 4"
   ]
  },
  {
   "cell_type": "code",
   "execution_count": 7,
   "metadata": {},
   "outputs": [],
   "source": [
    "base_prompt_files_v4 = ['p1v4', 'p2v4', 'p3v4']\n",
    "\n",
    "base_prompts_v4 = base_prompt_append(base_prompt_files_v4)\n",
    "\n",
    "# Example attempt\n",
    "prompt_pmid = prompt_generator(22744164, base_prompts_v4, excel_path)"
   ]
  },
  {
   "cell_type": "markdown",
   "metadata": {},
   "source": [
    "### Version 5"
   ]
  },
  {
   "cell_type": "code",
   "execution_count": 10,
   "metadata": {},
   "outputs": [],
   "source": [
    "base_prompt_files_v5 = ['p1v5', 'p2v5', 'p3v5']\n",
    "\n",
    "base_prompts_v5 = base_prompt_append(base_prompt_files_v5)\n",
    "\n",
    "# Example attempt\n",
    "prompt_pmid = prompt_generator(22744164, base_prompts_v5, excel_path)"
   ]
  },
  {
   "cell_type": "markdown",
   "metadata": {},
   "source": [
    "### Version 6"
   ]
  },
  {
   "cell_type": "markdown",
   "metadata": {},
   "source": [
    "Do note that version 6 has 4 prompts. So you will need to modify the code accordingly. Hint: Use file_path_p4"
   ]
  },
  {
   "cell_type": "code",
   "execution_count": 11,
   "metadata": {},
   "outputs": [],
   "source": [
    "base_prompt_files_v6 = ['p1v6', 'p2v6', 'p3v6', 'p4v6']\n",
    "\n",
    "base_prompts_v6 = base_prompt_append(base_prompt_files_v6)\n",
    "\n",
    "# Example attempt\n",
    "prompt_pmid = prompt_generator(22744164, base_prompts_v6, excel_path)"
   ]
  },
  {
   "cell_type": "markdown",
   "metadata": {},
   "source": [
    "### Saving all prompts"
   ]
  },
  {
   "cell_type": "code",
   "execution_count": 13,
   "metadata": {},
   "outputs": [
    {
     "name": "stdout",
     "output_type": "stream",
     "text": [
      "Prompts generated and saved for PMID 22744164\n",
      "Prompts generated and saved for PMID 15561964\n",
      "Prompts generated and saved for PMID 28770629\n",
      "Prompts generated and saved for PMID 33764184\n",
      "Prompts generated and saved for PMID 36155119\n",
      "Prompts generated and saved for PMID 35477306\n",
      "Prompts generated and saved for PMID 23153210\n",
      "Prompts generated and saved for PMID 34794279\n",
      "Prompts generated and saved for PMID 12116231\n",
      "Prompts generated and saved for PMID 2109332\n",
      "Prompts generated and saved for PMID 6453040\n",
      "Prompts generated and saved for PMID 31807629\n",
      "Prompts generated and saved for PMID 28068033\n",
      "Prompts generated and saved for PMID 28668296\n",
      "Prompts generated and saved for PMID 34872002\n",
      "Prompts generated and saved for PMID 32663752\n",
      "Prompts generated and saved for PMID 12475769\n",
      "Prompts generated and saved for PMID 22113416\n",
      "Prompts generated and saved for PMID 12638530\n",
      "Prompts generated and saved for PMID 36649380\n"
     ]
    }
   ],
   "source": [
    "# Define the PMID list\n",
    "excel_path = path_equity_precision_llm_folder + \"/llm training/Methods.xlsx\"\n",
    "pmid_list = pd.read_excel(excel_path, sheet_name='Training Data')['PMID'].tolist()\n",
    "\n",
    "# Generate loop\n",
    "for PMID in pmid_list:\n",
    "    # Generate the customized prompt\n",
    "    prompt_pmid_v1 = prompt_generator(PMID, base_prompts_v1, excel_path)\n",
    "    prompt_pmid_v3 = prompt_generator(PMID, base_prompts_v3, excel_path)\n",
    "    prompt_pmid_v4 = prompt_generator(PMID, base_prompts_v4, excel_path)\n",
    "    prompt_pmid_v5 = prompt_generator(PMID, base_prompts_v5, excel_path)\n",
    "    prompt_pmid_v6 = prompt_generator(PMID, base_prompts_v6, excel_path)\n",
    "\n",
    "    # Create a directory for each PMID in the working folder\n",
    "    pmid_folder = os.path.join(path_equity_precision_llm_folder, \"working\", str(PMID))\n",
    "    os.makedirs(pmid_folder, exist_ok=True)\n",
    "\n",
    "\n",
    "    # Define file paths for each prompt \n",
    "    file_path_p1v1 = os.path.join(pmid_folder, f\"{base_prompt_files_v1[0]}_{PMID}.txt\")\n",
    "    file_path_p2v1 = os.path.join(pmid_folder, f\"{base_prompt_files_v1[1]}_{PMID}.txt\")\n",
    "    file_path_p3v1 = os.path.join(pmid_folder, f\"{base_prompt_files_v1[2]}_{PMID}.txt\")\n",
    "\n",
    "    file_path_p1v3 = os.path.join(pmid_folder, f\"{base_prompt_files_v3[0]}_{PMID}.txt\")\n",
    "    file_path_p2v3 = os.path.join(pmid_folder, f\"{base_prompt_files_v3[1]}_{PMID}.txt\")\n",
    "    file_path_p3v3 = os.path.join(pmid_folder, f\"{base_prompt_files_v3[2]}_{PMID}.txt\")\n",
    "\n",
    "    file_path_p1v4 = os.path.join(pmid_folder, f\"{base_prompt_files_v4[0]}_{PMID}.txt\")\n",
    "    file_path_p2v4 = os.path.join(pmid_folder, f\"{base_prompt_files_v4[1]}_{PMID}.txt\")\n",
    "    file_path_p3v4 = os.path.join(pmid_folder, f\"{base_prompt_files_v4[2]}_{PMID}.txt\")\n",
    "\n",
    "    file_path_p1v5 = os.path.join(pmid_folder, f\"{base_prompt_files_v5[0]}_{PMID}.txt\")\n",
    "    file_path_p2v5 = os.path.join(pmid_folder, f\"{base_prompt_files_v5[1]}_{PMID}.txt\")\n",
    "    file_path_p3v5 = os.path.join(pmid_folder, f\"{base_prompt_files_v5[2]}_{PMID}.txt\")\n",
    "\n",
    "    file_path_p1v6 = os.path.join(pmid_folder, f\"{base_prompt_files_v6[0]}_{PMID}.txt\")\n",
    "    file_path_p2v6 = os.path.join(pmid_folder, f\"{base_prompt_files_v6[1]}_{PMID}.txt\")\n",
    "    file_path_p3v6 = os.path.join(pmid_folder, f\"{base_prompt_files_v6[2]}_{PMID}.txt\")\n",
    "    file_path_p4v6 = os.path.join(pmid_folder, f\"{base_prompt_files_v6[3]}_{PMID}.txt\")\n",
    "   \n",
    "   # TO BE COMPLETED ------\n",
    "    # Because we are keeping p1vN, we save the original file\n",
    "    with open(file_path_p1v1, \"w\") as file:\n",
    "            file.write(base_prompts_v1[0])\n",
    "\n",
    "    # Because we are keeping p2vN, we save the original file\n",
    "    with open(file_path_p2v1, \"w\") as file:\n",
    "            file.write(base_prompts_v1[1])\n",
    "\n",
    "    # Because we are modifying p3vN, we need to save the modified prompt to a new file\n",
    "    with open(file_path_p3v1, \"w\") as file:\n",
    "            file.write(prompt_pmid_v1)\n",
    "\n",
    "    # Because we are keeping p1vN, we save the original file\n",
    "    with open(file_path_p1v3, \"w\") as file:\n",
    "            file.write(base_prompts_v3[0])\n",
    "\n",
    "    # Because we are keeping p2vN, we save the original file\n",
    "    with open(file_path_p2v3, \"w\") as file:\n",
    "            file.write(base_prompts_v3[1])\n",
    "\n",
    "    # Because we are modifying p3vN, we need to save the modified prompt to a new file\n",
    "    with open(file_path_p3v3, \"w\") as file:\n",
    "            file.write(prompt_pmid_v3)\n",
    "\n",
    " # Because we are keeping p1vN, we save the original file\n",
    "    with open(file_path_p1v4, \"w\") as file:\n",
    "            file.write(base_prompts_v4[0])\n",
    "\n",
    "    # Because we are keeping p2vN, we save the original file\n",
    "    with open(file_path_p2v4, \"w\") as file:\n",
    "            file.write(base_prompts_v4[1])\n",
    "\n",
    "    # Because we are modifying p3vN, we need to save the modified prompt to a new file\n",
    "    with open(file_path_p3v4, \"w\") as file:\n",
    "            file.write(prompt_pmid_v4)\n",
    "\n",
    " # Because we are keeping p1vN, we save the original file\n",
    "    with open(file_path_p1v5, \"w\") as file:\n",
    "            file.write(base_prompts_v5[0])\n",
    "\n",
    "    # Because we are keeping p2vN, we save the original file\n",
    "    with open(file_path_p2v5, \"w\") as file:\n",
    "            file.write(base_prompts_v5[1])\n",
    "\n",
    "    # Because we are modifying p3vN, we need to save the modified prompt to a new file\n",
    "    with open(file_path_p3v5, \"w\") as file:\n",
    "            file.write(prompt_pmid_v5)\n",
    "\n",
    " # Because we are keeping p1vN, we save the original file\n",
    "    with open(file_path_p1v6, \"w\") as file:\n",
    "            file.write(base_prompts_v6[0])\n",
    "\n",
    "    # Because we are keeping p2vN, we save the original file\n",
    "    with open(file_path_p2v6, \"w\") as file:\n",
    "            file.write(base_prompts_v6[1])\n",
    "\n",
    "    # Save the modified p3vN prompt to file_path_p3v6\n",
    "    with open(file_path_p3v6, \"w\") as file:\n",
    "            file.write(prompt_pmid_v6)\n",
    "\n",
    "    # Save the modified p4vN prompt to file_path_p4v6\n",
    "    with open(file_path_p4v6, \"w\") as file:\n",
    "            file.write(base_prompts_v6[3])\n",
    "\n",
    "    print(f\"Prompts generated and saved for PMID {PMID}\")"
   ]
  }
 ],
 "metadata": {
  "kernelspec": {
   "display_name": "Python 3",
   "language": "python",
   "name": "python3"
  },
  "language_info": {
   "codemirror_mode": {
    "name": "ipython",
    "version": 3
   },
   "file_extension": ".py",
   "mimetype": "text/x-python",
   "name": "python",
   "nbconvert_exporter": "python",
   "pygments_lexer": "ipython3",
   "version": "3.13.0"
  }
 },
 "nbformat": 4,
 "nbformat_minor": 2
}
