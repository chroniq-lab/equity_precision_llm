{
 "cells": [
  {
   "cell_type": "markdown",
   "metadata": {},
   "source": [
    "Read the PMID's abstract, title and mesh terms"
   ]
  },
  {
   "cell_type": "code",
   "execution_count": 6,
   "metadata": {},
   "outputs": [],
   "source": [
    "import pandas as pd \n",
    "import numpy as np\n",
    "import sklearn as sklearn\n",
    "import os as os\n",
    "\n",
    "import matplotlib.pyplot as plt\n",
    "import seaborn as sns\n",
    "from kneed import KneeLocator\n",
    "from sklearn.cluster import KMeans\n",
    "from sklearn.metrics import silhouette_score\n",
    "from sklearn.preprocessing import StandardScaler\n",
    "import re as re\n",
    "\n",
    "\n",
    "if os.getlogin()==\"JVARGH7\":\n",
    "    path_equity_precision_llm_folder = \"C:/Cloud/OneDrive - Emory University/Papers/Global Equity in Diabetes Precision Medicine LLM\"\n",
    "    path_equity_precision_llm_repo =  'C:/code/external/equity_precision_llm'\n",
    "\n",
    "if os.getlogin()=='aamnasoniwala':\n",
    "    path_equity_precision_llm_folder = '/Users/aamnasoniwala/Library/CloudStorage/OneDrive-Emory/Global Equity in Diabetes Precision Medicine LLM'\n",
    "    path_equity_precision_llm_repo = '/Users/aamnasoniwala/Library/CloudStorage/OneDrive-Emory/Global Equity in Diabetes Precision Medicine LLM/llm training/Methods.xlsx'\n",
    "\n",
    "excel_path = path_equity_precision_llm_repo + '/llm training/Methods.xlsx'\n",
    "\n"
   ]
  },
  {
   "cell_type": "code",
   "execution_count": 8,
   "metadata": {},
   "outputs": [],
   "source": [
    "\n",
    "import os\n",
    "path_equity_precision_llm_repo = os.path.abspath(\"\").replace(\"preprocessing\", \"\")\n",
    "\n",
    "execfile(path_equity_precision_llm_repo + \"functions/prompt_generator.py\")\n",
    "execfile(path_equity_precision_llm_repo + \"functions/base_prompt_append.py\")\n"
   ]
  },
  {
   "cell_type": "markdown",
   "metadata": {},
   "source": [
    "### Version 1"
   ]
  },
  {
   "cell_type": "code",
   "execution_count": 9,
   "metadata": {},
   "outputs": [
    {
     "ename": "FileNotFoundError",
     "evalue": "[Errno 2] No such file or directory: '/Users/aamnasoniwala/code/equity_precision_llm//llm training/Methods.xlsx'",
     "output_type": "error",
     "traceback": [
      "\u001b[0;31m---------------------------------------------------------------------------\u001b[0m",
      "\u001b[0;31mFileNotFoundError\u001b[0m                         Traceback (most recent call last)",
      "Cell \u001b[0;32mIn[9], line 6\u001b[0m\n\u001b[1;32m      3\u001b[0m base_prompts_v1 \u001b[38;5;241m=\u001b[39m base_prompt_append(base_prompt_files_v1)\n\u001b[1;32m      5\u001b[0m \u001b[38;5;66;03m# Example attempt\u001b[39;00m\n\u001b[0;32m----> 6\u001b[0m prompt_pmid \u001b[38;5;241m=\u001b[39m \u001b[43mprompt_generator\u001b[49m\u001b[43m(\u001b[49m\u001b[38;5;241;43m22744164\u001b[39;49m\u001b[43m,\u001b[49m\u001b[43m \u001b[49m\u001b[43mbase_prompts_v1\u001b[49m\u001b[43m,\u001b[49m\u001b[43m \u001b[49m\u001b[43mexcel_path\u001b[49m\u001b[43m)\u001b[49m\n",
      "File \u001b[0;32m~/code/equity_precision_llm/functions/prompt_generator.py:8\u001b[0m, in \u001b[0;36mprompt_generator\u001b[0;34m(PMID, base_prompt_list, excel_path)\u001b[0m\n\u001b[1;32m      4\u001b[0m \u001b[38;5;28;01mdef\u001b[39;00m \u001b[38;5;21mprompt_generator\u001b[39m(PMID, base_prompt_list, excel_path):\n\u001b[1;32m      5\u001b[0m     \u001b[38;5;66;03m# print(PMID)\u001b[39;00m\n\u001b[1;32m      6\u001b[0m \n\u001b[1;32m      7\u001b[0m     \u001b[38;5;66;03m# Step 1: Read the excel sheet\u001b[39;00m\n\u001b[0;32m----> 8\u001b[0m     df \u001b[38;5;241m=\u001b[39m \u001b[43mpd\u001b[49m\u001b[38;5;241;43m.\u001b[39;49m\u001b[43mread_excel\u001b[49m\u001b[43m(\u001b[49m\u001b[43mexcel_path\u001b[49m\u001b[43m,\u001b[49m\u001b[43m \u001b[49m\u001b[43msheet_name\u001b[49m\u001b[38;5;241;43m=\u001b[39;49m\u001b[38;5;124;43m'\u001b[39;49m\u001b[38;5;124;43mTraining Data\u001b[39;49m\u001b[38;5;124;43m'\u001b[39;49m\u001b[43m)\u001b[49m\n\u001b[1;32m     10\u001b[0m     \u001b[38;5;66;03m# Step 2: Filter the excel sheet for the PMID, and create 3 variables: title, abstract, mesh\u001b[39;00m\n\u001b[1;32m     11\u001b[0m     record \u001b[38;5;241m=\u001b[39m df[df[\u001b[38;5;124m'\u001b[39m\u001b[38;5;124mPMID\u001b[39m\u001b[38;5;124m'\u001b[39m] \u001b[38;5;241m==\u001b[39m PMID]\u001b[38;5;241m.\u001b[39miloc[\u001b[38;5;241m0\u001b[39m]\n",
      "File \u001b[0;32m/Library/Frameworks/Python.framework/Versions/3.13/lib/python3.13/site-packages/pandas/io/excel/_base.py:495\u001b[0m, in \u001b[0;36mread_excel\u001b[0;34m(io, sheet_name, header, names, index_col, usecols, dtype, engine, converters, true_values, false_values, skiprows, nrows, na_values, keep_default_na, na_filter, verbose, parse_dates, date_parser, date_format, thousands, decimal, comment, skipfooter, storage_options, dtype_backend, engine_kwargs)\u001b[0m\n\u001b[1;32m    493\u001b[0m \u001b[38;5;28;01mif\u001b[39;00m \u001b[38;5;129;01mnot\u001b[39;00m \u001b[38;5;28misinstance\u001b[39m(io, ExcelFile):\n\u001b[1;32m    494\u001b[0m     should_close \u001b[38;5;241m=\u001b[39m \u001b[38;5;28;01mTrue\u001b[39;00m\n\u001b[0;32m--> 495\u001b[0m     io \u001b[38;5;241m=\u001b[39m \u001b[43mExcelFile\u001b[49m\u001b[43m(\u001b[49m\n\u001b[1;32m    496\u001b[0m \u001b[43m        \u001b[49m\u001b[43mio\u001b[49m\u001b[43m,\u001b[49m\n\u001b[1;32m    497\u001b[0m \u001b[43m        \u001b[49m\u001b[43mstorage_options\u001b[49m\u001b[38;5;241;43m=\u001b[39;49m\u001b[43mstorage_options\u001b[49m\u001b[43m,\u001b[49m\n\u001b[1;32m    498\u001b[0m \u001b[43m        \u001b[49m\u001b[43mengine\u001b[49m\u001b[38;5;241;43m=\u001b[39;49m\u001b[43mengine\u001b[49m\u001b[43m,\u001b[49m\n\u001b[1;32m    499\u001b[0m \u001b[43m        \u001b[49m\u001b[43mengine_kwargs\u001b[49m\u001b[38;5;241;43m=\u001b[39;49m\u001b[43mengine_kwargs\u001b[49m\u001b[43m,\u001b[49m\n\u001b[1;32m    500\u001b[0m \u001b[43m    \u001b[49m\u001b[43m)\u001b[49m\n\u001b[1;32m    501\u001b[0m \u001b[38;5;28;01melif\u001b[39;00m engine \u001b[38;5;129;01mand\u001b[39;00m engine \u001b[38;5;241m!=\u001b[39m io\u001b[38;5;241m.\u001b[39mengine:\n\u001b[1;32m    502\u001b[0m     \u001b[38;5;28;01mraise\u001b[39;00m \u001b[38;5;167;01mValueError\u001b[39;00m(\n\u001b[1;32m    503\u001b[0m         \u001b[38;5;124m\"\u001b[39m\u001b[38;5;124mEngine should not be specified when passing \u001b[39m\u001b[38;5;124m\"\u001b[39m\n\u001b[1;32m    504\u001b[0m         \u001b[38;5;124m\"\u001b[39m\u001b[38;5;124man ExcelFile - ExcelFile already has the engine set\u001b[39m\u001b[38;5;124m\"\u001b[39m\n\u001b[1;32m    505\u001b[0m     )\n",
      "File \u001b[0;32m/Library/Frameworks/Python.framework/Versions/3.13/lib/python3.13/site-packages/pandas/io/excel/_base.py:1550\u001b[0m, in \u001b[0;36mExcelFile.__init__\u001b[0;34m(self, path_or_buffer, engine, storage_options, engine_kwargs)\u001b[0m\n\u001b[1;32m   1548\u001b[0m     ext \u001b[38;5;241m=\u001b[39m \u001b[38;5;124m\"\u001b[39m\u001b[38;5;124mxls\u001b[39m\u001b[38;5;124m\"\u001b[39m\n\u001b[1;32m   1549\u001b[0m \u001b[38;5;28;01melse\u001b[39;00m:\n\u001b[0;32m-> 1550\u001b[0m     ext \u001b[38;5;241m=\u001b[39m \u001b[43minspect_excel_format\u001b[49m\u001b[43m(\u001b[49m\n\u001b[1;32m   1551\u001b[0m \u001b[43m        \u001b[49m\u001b[43mcontent_or_path\u001b[49m\u001b[38;5;241;43m=\u001b[39;49m\u001b[43mpath_or_buffer\u001b[49m\u001b[43m,\u001b[49m\u001b[43m \u001b[49m\u001b[43mstorage_options\u001b[49m\u001b[38;5;241;43m=\u001b[39;49m\u001b[43mstorage_options\u001b[49m\n\u001b[1;32m   1552\u001b[0m \u001b[43m    \u001b[49m\u001b[43m)\u001b[49m\n\u001b[1;32m   1553\u001b[0m     \u001b[38;5;28;01mif\u001b[39;00m ext \u001b[38;5;129;01mis\u001b[39;00m \u001b[38;5;28;01mNone\u001b[39;00m:\n\u001b[1;32m   1554\u001b[0m         \u001b[38;5;28;01mraise\u001b[39;00m \u001b[38;5;167;01mValueError\u001b[39;00m(\n\u001b[1;32m   1555\u001b[0m             \u001b[38;5;124m\"\u001b[39m\u001b[38;5;124mExcel file format cannot be determined, you must specify \u001b[39m\u001b[38;5;124m\"\u001b[39m\n\u001b[1;32m   1556\u001b[0m             \u001b[38;5;124m\"\u001b[39m\u001b[38;5;124man engine manually.\u001b[39m\u001b[38;5;124m\"\u001b[39m\n\u001b[1;32m   1557\u001b[0m         )\n",
      "File \u001b[0;32m/Library/Frameworks/Python.framework/Versions/3.13/lib/python3.13/site-packages/pandas/io/excel/_base.py:1402\u001b[0m, in \u001b[0;36minspect_excel_format\u001b[0;34m(content_or_path, storage_options)\u001b[0m\n\u001b[1;32m   1399\u001b[0m \u001b[38;5;28;01mif\u001b[39;00m \u001b[38;5;28misinstance\u001b[39m(content_or_path, \u001b[38;5;28mbytes\u001b[39m):\n\u001b[1;32m   1400\u001b[0m     content_or_path \u001b[38;5;241m=\u001b[39m BytesIO(content_or_path)\n\u001b[0;32m-> 1402\u001b[0m \u001b[38;5;28;01mwith\u001b[39;00m \u001b[43mget_handle\u001b[49m\u001b[43m(\u001b[49m\n\u001b[1;32m   1403\u001b[0m \u001b[43m    \u001b[49m\u001b[43mcontent_or_path\u001b[49m\u001b[43m,\u001b[49m\u001b[43m \u001b[49m\u001b[38;5;124;43m\"\u001b[39;49m\u001b[38;5;124;43mrb\u001b[39;49m\u001b[38;5;124;43m\"\u001b[39;49m\u001b[43m,\u001b[49m\u001b[43m \u001b[49m\u001b[43mstorage_options\u001b[49m\u001b[38;5;241;43m=\u001b[39;49m\u001b[43mstorage_options\u001b[49m\u001b[43m,\u001b[49m\u001b[43m \u001b[49m\u001b[43mis_text\u001b[49m\u001b[38;5;241;43m=\u001b[39;49m\u001b[38;5;28;43;01mFalse\u001b[39;49;00m\n\u001b[1;32m   1404\u001b[0m \u001b[43m\u001b[49m\u001b[43m)\u001b[49m \u001b[38;5;28;01mas\u001b[39;00m handle:\n\u001b[1;32m   1405\u001b[0m     stream \u001b[38;5;241m=\u001b[39m handle\u001b[38;5;241m.\u001b[39mhandle\n\u001b[1;32m   1406\u001b[0m     stream\u001b[38;5;241m.\u001b[39mseek(\u001b[38;5;241m0\u001b[39m)\n",
      "File \u001b[0;32m/Library/Frameworks/Python.framework/Versions/3.13/lib/python3.13/site-packages/pandas/io/common.py:882\u001b[0m, in \u001b[0;36mget_handle\u001b[0;34m(path_or_buf, mode, encoding, compression, memory_map, is_text, errors, storage_options)\u001b[0m\n\u001b[1;32m    873\u001b[0m         handle \u001b[38;5;241m=\u001b[39m \u001b[38;5;28mopen\u001b[39m(\n\u001b[1;32m    874\u001b[0m             handle,\n\u001b[1;32m    875\u001b[0m             ioargs\u001b[38;5;241m.\u001b[39mmode,\n\u001b[0;32m   (...)\u001b[0m\n\u001b[1;32m    878\u001b[0m             newline\u001b[38;5;241m=\u001b[39m\u001b[38;5;124m\"\u001b[39m\u001b[38;5;124m\"\u001b[39m,\n\u001b[1;32m    879\u001b[0m         )\n\u001b[1;32m    880\u001b[0m     \u001b[38;5;28;01melse\u001b[39;00m:\n\u001b[1;32m    881\u001b[0m         \u001b[38;5;66;03m# Binary mode\u001b[39;00m\n\u001b[0;32m--> 882\u001b[0m         handle \u001b[38;5;241m=\u001b[39m \u001b[38;5;28;43mopen\u001b[39;49m\u001b[43m(\u001b[49m\u001b[43mhandle\u001b[49m\u001b[43m,\u001b[49m\u001b[43m \u001b[49m\u001b[43mioargs\u001b[49m\u001b[38;5;241;43m.\u001b[39;49m\u001b[43mmode\u001b[49m\u001b[43m)\u001b[49m\n\u001b[1;32m    883\u001b[0m     handles\u001b[38;5;241m.\u001b[39mappend(handle)\n\u001b[1;32m    885\u001b[0m \u001b[38;5;66;03m# Convert BytesIO or file objects passed with an encoding\u001b[39;00m\n",
      "\u001b[0;31mFileNotFoundError\u001b[0m: [Errno 2] No such file or directory: '/Users/aamnasoniwala/code/equity_precision_llm//llm training/Methods.xlsx'"
     ]
    }
   ],
   "source": [
    "base_prompt_files_v1 = ['p1v1', 'p2v1', 'p3v1']\n",
    "\n",
    "base_prompts_v1 = base_prompt_append(base_prompt_files_v1)\n",
    "\n",
    "# Example attempt\n",
    "prompt_pmid = prompt_generator(22744164, base_prompts_v1, excel_path)"
   ]
  },
  {
   "cell_type": "markdown",
   "metadata": {},
   "source": [
    "### Version 3"
   ]
  },
  {
   "cell_type": "code",
   "execution_count": null,
   "metadata": {},
   "outputs": [],
   "source": [
    "base_prompt_files_v3 = ['p1v3', 'p2v3', 'p3v3']\n",
    "\n",
    "base_prompts_v3 = base_prompt_append(base_prompt_files_v3)\n",
    "\n",
    "# Example attempt\n",
    "prompt_pmid = prompt_generator(22744164, base_prompts_v1, excel_path)"
   ]
  },
  {
   "cell_type": "markdown",
   "metadata": {},
   "source": [
    "### Version 4"
   ]
  },
  {
   "cell_type": "code",
   "execution_count": null,
   "metadata": {},
   "outputs": [],
   "source": [
    "base_prompt_files_v4 = ['p1v4', 'p2v4', 'p3v4']\n",
    "\n",
    "base_prompts_v4 = base_prompt_append(base_prompt_files_v4)\n",
    "\n",
    "# Example attempt\n",
    "prompt_pmid = prompt_generator(22744164, base_prompts_v4, excel_path)"
   ]
  },
  {
   "cell_type": "markdown",
   "metadata": {},
   "source": [
    "### Version 5"
   ]
  },
  {
   "cell_type": "code",
   "execution_count": null,
   "metadata": {},
   "outputs": [],
   "source": [
    "base_prompt_files_v5 = ['p1v5', 'p2v5', 'p3v5']\n",
    "\n",
    "base_prompts_v5 = base_prompt_append(base_prompt_files_v5)\n",
    "\n",
    "# Example attempt\n",
    "prompt_pmid = prompt_generator(22744164, base_prompts_v5, excel_path)"
   ]
  },
  {
   "cell_type": "markdown",
   "metadata": {},
   "source": [
    "### Version 6"
   ]
  },
  {
   "cell_type": "markdown",
   "metadata": {},
   "source": [
    "Do note that version 6 has 4 prompts. So you will need to modify the code accordingly. Hint: Use file_path_p4"
   ]
  },
  {
   "cell_type": "code",
   "execution_count": null,
   "metadata": {},
   "outputs": [],
   "source": [
    "base_prompt_files_v6 = ['p1v6', 'p2v6', 'p3v6', 'p4v6']\n",
    "\n",
    "base_prompts_v6 = base_prompt_append(base_prompt_files_v6)\n",
    "\n",
    "# Example attempt\n",
    "prompt_pmid = prompt_generator(22744164, base_prompts_v6, excel_path)"
   ]
  },
  {
   "cell_type": "markdown",
   "metadata": {},
   "source": [
    "### Saving all prompts"
   ]
  },
  {
   "cell_type": "code",
   "execution_count": null,
   "metadata": {},
   "outputs": [],
   "source": [
    "# Define the PMID list\n",
    "excel_path = path_equity_precision_llm_folder + \"/llm training/Methods.xlsx\"\n",
    "pmid_list = pd.read_excel(excel_path, sheet_name='Training Data')['PMID'].tolist()\n",
    "\n",
    "# Generate loop\n",
    "for PMID in pmid_list:\n",
    "    # Generate the customized prompt\n",
    "    prompt_pmid_v1 = prompt_generator(PMID, base_prompts_v1, excel_path)\n",
    "    prompt_pmid_v3 = prompt_generator(PMID, base_prompts_v3, excel_path)\n",
    "    prompt_pmid_v4 = prompt_generator(PMID, base_prompts_v4, excel_path)\n",
    "    prompt_pmid_v5 = prompt_generator(PMID, base_prompts_v5, excel_path)\n",
    "    prompt_pmid_v6 = prompt_generator(PMID, base_prompts_v6, excel_path)\n",
    "\n",
    "    # Create a directory for each PMID in the working folder\n",
    "    pmid_folder = os.path.join(path_equity_precision_llm_folder, \"working\", str(PMID))\n",
    "    os.makedirs(pmid_folder, exist_ok=True)\n",
    "\n",
    "\n",
    "    # Define file paths for each prompt \n",
    "    file_path_p1v1 = os.path.join(pmid_folder, f\"{base_prompt_files_v1[0]}_{PMID}.txt\")\n",
    "    file_path_p2v1 = os.path.join(pmid_folder, f\"{base_prompt_files_v1[1]}_{PMID}.txt\")\n",
    "    file_path_p3v1 = os.path.join(pmid_folder, f\"{base_prompt_files_v1[2]}_{PMID}.txt\")\n",
    "\n",
    "    file_path_p1v3 = os.path.join(pmid_folder, f\"{base_prompt_files_v3[0]}_{PMID}.txt\")\n",
    "    file_path_p2v3 = os.path.join(pmid_folder, f\"{base_prompt_files_v3[1]}_{PMID}.txt\")\n",
    "    file_path_p3v3 = os.path.join(pmid_folder, f\"{base_prompt_files_v3[2]}_{PMID}.txt\")\n",
    "\n",
    "    file_path_p1v4 = os.path.join(pmid_folder, f\"{base_prompt_files_v4[0]}_{PMID}.txt\")\n",
    "    file_path_p2v4 = os.path.join(pmid_folder, f\"{base_prompt_files_v4[1]}_{PMID}.txt\")\n",
    "    file_path_p3v4 = os.path.join(pmid_folder, f\"{base_prompt_files_v4[2]}_{PMID}.txt\")\n",
    "\n",
    "    file_path_p1v5 = os.path.join(pmid_folder, f\"{base_prompt_files_v5[0]}_{PMID}.txt\")\n",
    "    file_path_p2v5 = os.path.join(pmid_folder, f\"{base_prompt_files_v5[1]}_{PMID}.txt\")\n",
    "    file_path_p3v5 = os.path.join(pmid_folder, f\"{base_prompt_files_v5[2]}_{PMID}.txt\")\n",
    "\n",
    "    file_path_p1v6 = os.path.join(pmid_folder, f\"{base_prompt_files_v6[0]}_{PMID}.txt\")\n",
    "    file_path_p2v6 = os.path.join(pmid_folder, f\"{base_prompt_files_v6[1]}_{PMID}.txt\")\n",
    "    file_path_p3v6 = os.path.join(pmid_folder, f\"{base_prompt_files_v6[2]}_{PMID}.txt\")\n",
    "    file_path_p4v6 = os.path.join(pmid_folder, f\"{base_prompt_files_v6[3]}_{PMID}.txt\")\n",
    "   \n",
    "   # TO BE COMPLETED ------\n",
    "    # Because we are keeping p1vN, we save the original file\n",
    "    with open(file_path_p1v1, \"w\") as file:\n",
    "            file.write(base_prompts_v1[0])\n",
    "\n",
    "    # Because we are keeping p2vN, we save the original file\n",
    "    with open(file_path_p2v1, \"w\") as file:\n",
    "            file.write(base_prompts_v1[1])\n",
    "\n",
    "    # Because we are modifying p3vN, we need to save the modified prompt to a new file\n",
    "    with open(file_path_p3v1, \"w\") as file:\n",
    "            file.write(prompt_pmid_v1)\n",
    "\n",
    "    # Because we are keeping p1vN, we save the original file\n",
    "    with open(file_path_p1v3, \"w\") as file:\n",
    "            file.write(base_prompts_v3[0])\n",
    "\n",
    "    # Because we are keeping p2vN, we save the original file\n",
    "    with open(file_path_p2v3, \"w\") as file:\n",
    "            file.write(base_prompts_v3[1])\n",
    "\n",
    "    # Because we are modifying p3vN, we need to save the modified prompt to a new file\n",
    "    with open(file_path_p3v3, \"w\") as file:\n",
    "            file.write(prompt_pmid_v3)\n",
    "\n",
    " # Because we are keeping p1vN, we save the original file\n",
    "    with open(file_path_p1v4, \"w\") as file:\n",
    "            file.write(base_prompts_v4[0])\n",
    "\n",
    "    # Because we are keeping p2vN, we save the original file\n",
    "    with open(file_path_p2v4, \"w\") as file:\n",
    "            file.write(base_prompts_v4[1])\n",
    "\n",
    "    # Because we are modifying p3vN, we need to save the modified prompt to a new file\n",
    "    with open(file_path_p3v4, \"w\") as file:\n",
    "            file.write(prompt_pmid_v4)\n",
    "\n",
    " # Because we are keeping p1vN, we save the original file\n",
    "    with open(file_path_p1v5, \"w\") as file:\n",
    "            file.write(base_prompts_v5[0])\n",
    "\n",
    "    # Because we are keeping p2vN, we save the original file\n",
    "    with open(file_path_p2v5, \"w\") as file:\n",
    "            file.write(base_prompts_v5[1])\n",
    "\n",
    "    # Because we are modifying p3vN, we need to save the modified prompt to a new file\n",
    "    with open(file_path_p3v5, \"w\") as file:\n",
    "            file.write(prompt_pmid_v5)\n",
    "\n",
    " # Because we are keeping p1vN, we save the original file\n",
    "    with open(file_path_p1v6, \"w\") as file:\n",
    "            file.write(base_prompts_v6[0])\n",
    "\n",
    "    # Because we are keeping p2vN, we save the original file\n",
    "    with open(file_path_p2v6, \"w\") as file:\n",
    "            file.write(base_prompts_v6[1])\n",
    "\n",
    "    # Save the modified p3vN prompt to file_path_p3v6\n",
    "    with open(file_path_p3v6, \"w\") as file:\n",
    "            file.write(prompt_p3v6)\n",
    "\n",
    "    # Save the modified p4vN prompt to file_path_p4v6\n",
    "    with open(file_path_p4v6, \"w\") as file:\n",
    "            file.write(prompt_p4v6)\n",
    "\n",
    "    print(f\"Prompts generated and saved for PMID {PMID} for version 1\")"
   ]
  }
 ],
 "metadata": {
  "kernelspec": {
   "display_name": "Python 3",
   "language": "python",
   "name": "python3"
  },
  "language_info": {
   "codemirror_mode": {
    "name": "ipython",
    "version": 3
   },
   "file_extension": ".py",
   "mimetype": "text/x-python",
   "name": "python",
   "nbconvert_exporter": "python",
   "pygments_lexer": "ipython3",
   "version": "3.13.0"
  }
 },
 "nbformat": 4,
 "nbformat_minor": 2
}
