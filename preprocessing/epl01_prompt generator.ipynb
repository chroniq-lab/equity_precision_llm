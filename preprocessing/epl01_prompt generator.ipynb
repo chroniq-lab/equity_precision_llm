{
 "cells": [
  {
   "cell_type": "markdown",
   "metadata": {},
   "source": [
    "Read the PMID's abstract, title and mesh terms"
   ]
  },
  {
   "cell_type": "code",
   "execution_count": 11,
   "metadata": {},
   "outputs": [],
   "source": [
    "import pandas as pd \n",
    "import numpy as np\n",
    "import os as os\n",
    "import sklearn as sklearn\n",
    "\n",
    "import matplotlib.pyplot as plt\n",
    "import seaborn as sns\n",
    "from kneed import KneeLocator\n",
    "from sklearn.cluster import KMeans\n",
    "from sklearn.metrics import silhouette_score\n",
    "from sklearn.preprocessing import StandardScaler\n",
    "import re as re\n",
    "\n",
    "if os.getlogin()==\"JVARGH7\":\n",
    "    path_equity_precision_llm_folder = \"C:/Cloud/OneDrive - Emory University/Papers/Global Equity in Diabetes Precision Medicine LLM\"\n",
    "    path_equity_precision_llm_repo =  'C:/code/external/equity_precision_llm'\n",
    "if os.getlogin()=='aamnasoniwala':\n",
    "    path_equity_precision_llm_folder = '/aamnasoniwala/Library/CloudStorage/OneDrive-Emory/Global Equity in Diabetes Precision Medicine LLM'\n",
    "    path_equity_precision_llm_repo = '/Users/aamnasoniwala/code/equity_precision_llm'\n",
    "\n",
    "excel_path = path_equity_precision_llm_folder + \"/llm training/Methods.xlsx\"\n",
    "\n"
   ]
  },
  {
   "cell_type": "code",
   "execution_count": 23,
   "metadata": {},
   "outputs": [],
   "source": [
    "\n",
    "import os\n",
    "path_equity_precision_llm_repo = os.path.abspath(\"\").replace(\"preprocessing\", \"\")\n",
    "\n",
    "execfile(path_equity_precision_llm_repo + \"functions/prompt_generator.py\")\n",
    "execfile(path_equity_precision_llm_repo + \"functions/base_prompt_append.py\")\n"
   ]
  },
  {
   "cell_type": "markdown",
   "metadata": {},
   "source": [
    "### Version 1"
   ]
  },
  {
   "cell_type": "code",
   "execution_count": 17,
   "metadata": {},
   "outputs": [],
   "source": [
    "base_prompt_files_v1 = ['p1v1', 'p2v1', 'p3v1']\n",
    "\n",
    "base_prompts_v1 = base_prompt_append(base_prompt_files_v1)\n",
    "\n",
    "# Example attempt\n",
    "prompt_pmid = prompt_generator(22744164, base_prompts_v1, excel_path)"
   ]
  },
  {
   "cell_type": "markdown",
   "metadata": {},
   "source": [
    "### Version 3"
   ]
  },
  {
   "cell_type": "code",
   "execution_count": 25,
   "metadata": {},
   "outputs": [],
   "source": [
    "base_prompt_files_v3 = ['p1v3', 'p2v3', 'p3v3']\n",
    "\n",
    "base_prompts_v3 = base_prompt_append(base_prompt_files_v3)\n",
    "\n",
    "# Example attempt\n",
    "prompt_pmid = prompt_generator(22744164, base_prompts_v1, excel_path)"
   ]
  },
  {
   "cell_type": "markdown",
   "metadata": {},
   "source": [
    "### Version 4"
   ]
  },
  {
   "cell_type": "code",
   "execution_count": null,
   "metadata": {},
   "outputs": [],
   "source": [
    "base_prompt_files_v4 = ['p1v4', 'p2v4', 'p3v4']\n",
    "\n",
    "base_prompts_v4 = base_prompt_append(base_prompt_files_v4)\n",
    "\n",
    "# Example attempt\n",
    "prompt_pmid = prompt_generator(22744164, base_prompts_v4, excel_path)"
   ]
  },
  {
   "cell_type": "markdown",
   "metadata": {},
   "source": [
    "### Version 5"
   ]
  },
  {
   "cell_type": "code",
   "execution_count": null,
   "metadata": {},
   "outputs": [],
   "source": [
    "base_prompt_files_v5 = ['p1v5', 'p2v5', 'p3v5']\n",
    "\n",
    "base_prompts_v5 = base_prompt_append(base_prompt_files_v5)\n",
    "\n",
    "# Example attempt\n",
    "prompt_pmid = prompt_generator(22744164, base_prompts_v5, excel_path)"
   ]
  },
  {
   "cell_type": "markdown",
   "metadata": {},
   "source": [
    "### Version 6"
   ]
  },
  {
   "cell_type": "markdown",
   "metadata": {},
   "source": [
    "Do note that version 6 has 4 prompts. So you will need to modify the code accordingly. Hint: Use file_path_p4"
   ]
  },
  {
   "cell_type": "code",
   "execution_count": null,
   "metadata": {},
   "outputs": [],
   "source": [
    "base_prompt_files_v6 = ['p1v6', 'p2v6', 'p3v6', 'p4v6']\n",
    "\n",
    "base_prompts_v6 = base_prompt_append(base_prompt_files_v6)\n",
    "\n",
    "# Example attempt\n",
    "prompt_pmid = prompt_generator(22744164, base_prompts_v6, excel_path)"
   ]
  },
  {
   "cell_type": "markdown",
   "metadata": {},
   "source": [
    "### Saving all prompts"
   ]
  },
  {
   "cell_type": "code",
   "execution_count": null,
   "metadata": {},
   "outputs": [
    {
     "name": "stdout",
     "output_type": "stream",
     "text": [
      "Prompts generated and saved for PMID 22744164 for version 1\n",
      "Prompts generated and saved for PMID 15561964 for version 1\n",
      "Prompts generated and saved for PMID 28770629 for version 1\n",
      "Prompts generated and saved for PMID 33764184 for version 1\n",
      "Prompts generated and saved for PMID 36155119 for version 1\n",
      "Prompts generated and saved for PMID 35477306 for version 1\n",
      "Prompts generated and saved for PMID 23153210 for version 1\n",
      "Prompts generated and saved for PMID 34794279 for version 1\n",
      "Prompts generated and saved for PMID 12116231 for version 1\n",
      "Prompts generated and saved for PMID 2109332 for version 1\n",
      "Prompts generated and saved for PMID 6453040 for version 1\n",
      "Prompts generated and saved for PMID 31807629 for version 1\n",
      "Prompts generated and saved for PMID 28068033 for version 1\n",
      "Prompts generated and saved for PMID 28668296 for version 1\n",
      "Prompts generated and saved for PMID 34872002 for version 1\n",
      "Prompts generated and saved for PMID 32663752 for version 1\n",
      "Prompts generated and saved for PMID 12475769 for version 1\n",
      "Prompts generated and saved for PMID 22113416 for version 1\n",
      "Prompts generated and saved for PMID 12638530 for version 1\n",
      "Prompts generated and saved for PMID 36649380 for version 1\n"
     ]
    }
   ],
   "source": [
    "# Define the PMID list\n",
    "excel_path = path_equity_precision_llm_folder + \"/llm training/Methods.xlsx\"\n",
    "pmid_list = pd.read_excel(excel_path, sheet_name='Training Data')['PMID'].tolist()\n",
    "\n",
    "# Generate loop\n",
    "for PMID in pmid_list:\n",
    "    # Generate the customized prompt\n",
    "    prompt_pmid_v1 = prompt_generator(PMID, base_prompts_v1, excel_path)\n",
    "    prompt_pmid_v3 = prompt_generator(PMID, base_prompts_v3, excel_path)\n",
    "    prompt_pmid_v4 = prompt_generator(PMID, base_prompts_v4, excel_path)\n",
    "    prompt_pmid_v5 = prompt_generator(PMID, base_prompts_v5, excel_path)\n",
    "    prompt_pmid_v6 = prompt_generator(PMID, base_prompts_v6, excel_path)\n",
    "\n",
    "    # Create a directory for each PMID in the working folder\n",
    "    pmid_folder = os.path.join(path_equity_precision_llm_folder, \"working\", str(PMID))\n",
    "    os.makedirs(pmid_folder, exist_ok=True)\n",
    "\n",
    "\n",
    "    # Define file paths for each prompt \n",
    "    file_path_p1v1 = os.path.join(pmid_folder, f\"{base_prompt_files_v1[0]}_{PMID}.txt\")\n",
    "    file_path_p2v1 = os.path.join(pmid_folder, f\"{base_prompt_files_v1[1]}_{PMID}.txt\")\n",
    "    file_path_p3v1 = os.path.join(pmid_folder, f\"{base_prompt_files_v1[2]}_{PMID}.txt\")\n",
    "\n",
    "    file_path_p1v3 = os.path.join(pmid_folder, f\"{base_prompt_files_v3[0]}_{PMID}.txt\")\n",
    "    file_path_p2v3 = os.path.join(pmid_folder, f\"{base_prompt_files_v3[1]}_{PMID}.txt\")\n",
    "    file_path_p3v3 = os.path.join(pmid_folder, f\"{base_prompt_files_v3[2]}_{PMID}.txt\")\n",
    "\n",
    "    file_path_p1v4 = os.path.join(pmid_folder, f\"{base_prompt_files_v4[0]}_{PMID}.txt\")\n",
    "    file_path_p2v4 = os.path.join(pmid_folder, f\"{base_prompt_files_v4[1]}_{PMID}.txt\")\n",
    "    file_path_p3v4 = os.path.join(pmid_folder, f\"{base_prompt_files_v4[2]}_{PMID}.txt\")\n",
    "\n",
    "    file_path_p1v5 = os.path.join(pmid_folder, f\"{base_prompt_files_v5[0]}_{PMID}.txt\")\n",
    "    file_path_p2v5 = os.path.join(pmid_folder, f\"{base_prompt_files_v5[1]}_{PMID}.txt\")\n",
    "    file_path_p3v5 = os.path.join(pmid_folder, f\"{base_prompt_files_v5[2]}_{PMID}.txt\")\n",
    "\n",
    "    file_path_p1v6 = os.path.join(pmid_folder, f\"{base_prompt_files_v6[0]}_{PMID}.txt\")\n",
    "    file_path_p2v6 = os.path.join(pmid_folder, f\"{base_prompt_files_v6[1]}_{PMID}.txt\")\n",
    "    file_path_p3v6 = os.path.join(pmid_folder, f\"{base_prompt_files_v6[2]}_{PMID}.txt\")\n",
    "    file_path_p4v6 = os.path.join(pmid_folder, f\"{base_prompt_files_v6[3]}_{PMID}.txt\")\n",
    "   \n",
    "   # TO BE COMPLETED ------\n",
    "    # Because we are keeping p1vN, we save the original file\n",
    "    with open(file_path_p1v1, \"w\") as file:\n",
    "            file.write(base_prompts_v1[0])\n",
    "\n",
    "    # Because we are keeping p2vN, we save the original file\n",
    "    with open(file_path_p2v1, \"w\") as file:\n",
    "            file.write(base_prompts_v1[1])\n",
    "\n",
    "    # Because we are modifying p3vN, we need to save the modified prompt to a new file\n",
    "    with open(file_path_p3v1, \"w\") as file:\n",
    "            file.write(prompt_pmid_v1)\n",
    "\n",
    "    # Because we are keeping p1vN, we save the original file\n",
    "    with open(file_path_p1v3, \"w\") as file:\n",
    "            file.write(base_prompts_v3[0])\n",
    "\n",
    "    # Because we are keeping p2vN, we save the original file\n",
    "    with open(file_path_p2v3, \"w\") as file:\n",
    "            file.write(base_prompts_v3[1])\n",
    "\n",
    "    # Because we are modifying p3vN, we need to save the modified prompt to a new file\n",
    "    with open(file_path_p3v3, \"w\") as file:\n",
    "            file.write(prompt_pmid_v3)\n",
    "\n",
    " # Because we are keeping p1vN, we save the original file\n",
    "    with open(file_path_p1v4, \"w\") as file:\n",
    "            file.write(base_prompts_v4[0])\n",
    "\n",
    "    # Because we are keeping p2vN, we save the original file\n",
    "    with open(file_path_p2v4, \"w\") as file:\n",
    "            file.write(base_prompts_v4[1])\n",
    "\n",
    "    # Because we are modifying p3vN, we need to save the modified prompt to a new file\n",
    "    with open(file_path_p3v4, \"w\") as file:\n",
    "            file.write(prompt_pmid_v4)\n",
    "\n",
    " # Because we are keeping p1vN, we save the original file\n",
    "    with open(file_path_p1v5, \"w\") as file:\n",
    "            file.write(base_prompts_v5[0])\n",
    "\n",
    "    # Because we are keeping p2vN, we save the original file\n",
    "    with open(file_path_p2v5, \"w\") as file:\n",
    "            file.write(base_prompts_v5[1])\n",
    "\n",
    "    # Because we are modifying p3vN, we need to save the modified prompt to a new file\n",
    "    with open(file_path_p3v5, \"w\") as file:\n",
    "            file.write(prompt_pmid_v5)\n",
    "\n",
    " # Because we are keeping p1vN, we save the original file\n",
    "    with open(file_path_p1v6, \"w\") as file:\n",
    "            file.write(base_prompts_v6[0])\n",
    "\n",
    "    # Because we are keeping p2vN, we save the original file\n",
    "    with open(file_path_p2v6, \"w\") as file:\n",
    "            file.write(base_prompts_v6[1])\n",
    "\n",
    "    # Because we are modifying p3vN, we need to save the modified prompt to a new file\n",
    "    with open(file_path_p4v6, \"w\") as file:\n",
    "            file.write(prompt_pmid_v6)\n",
    "\n",
    "    # Because we are modifying p4vN, we need to save the modified prompt to a new file\n",
    "    with open(file_path_p3v6, \"w\") as file:\n",
    "            file.write(prompt_pmid_v6)\n",
    "\n",
    "    print(f\"Prompts generated and saved for PMID {PMID} for version 1\")"
   ]
  }
 ],
 "metadata": {
  "kernelspec": {
   "display_name": "Python 3",
   "language": "python",
   "name": "python3"
  },
  "language_info": {
   "codemirror_mode": {
    "name": "ipython",
    "version": 3
   },
   "file_extension": ".py",
   "mimetype": "text/x-python",
   "name": "python",
   "nbconvert_exporter": "python",
   "pygments_lexer": "ipython3",
   "version": "3.11.4"
  }
 },
 "nbformat": 4,
 "nbformat_minor": 2
}
