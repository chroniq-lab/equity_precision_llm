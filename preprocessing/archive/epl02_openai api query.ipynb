{
 "cells": [
  {
   "cell_type": "markdown",
   "metadata": {},
   "source": [
    "### How to access the OpenAI application programming interface"
   ]
  },
  {
   "cell_type": "markdown",
   "metadata": {},
   "source": [
    "In your command prompt window:\n",
    ">> pip install openai\n",
    "\n",
    "https://help.openai.com/en/articles/5112595-best-practices-for-api-key-safety\n",
    "\n"
   ]
  },
  {
   "cell_type": "code",
   "execution_count": 6,
   "metadata": {},
   "outputs": [
    {
     "name": "stdout",
     "output_type": "stream",
     "text": [
      "Requirement already satisfied: kneed in c:\\users\\jvargh7\\appdata\\local\\programs\\python\\python311\\lib\\site-packages (0.8.5)\n",
      "Requirement already satisfied: numpy>=1.14.2 in c:\\users\\jvargh7\\appdata\\local\\programs\\python\\python311\\lib\\site-packages (from kneed) (1.23.5)\n",
      "Requirement already satisfied: scipy>=1.0.0 in c:\\users\\jvargh7\\appdata\\local\\programs\\python\\python311\\lib\\site-packages (from kneed) (1.10.1)\n",
      "Note: you may need to restart the kernel to use updated packages.\n"
     ]
    },
    {
     "name": "stderr",
     "output_type": "stream",
     "text": [
      "\n",
      "[notice] A new release of pip is available: 23.1.2 -> 24.3.1\n",
      "[notice] To update, run: python.exe -m pip install --upgrade pip\n"
     ]
    }
   ],
   "source": [
    "import pandas as pd \n",
    "import numpy as np\n",
    "import sklearn as sklearn\n",
    "import os as os\n",
    "import getpass\n",
    "\n",
    "import matplotlib.pyplot as plt\n",
    "import seaborn as sns\n",
    "from kneed import KneeLocator\n",
    "from sklearn.cluster import KMeans\n",
    "from sklearn.metrics import silhouette_score\n",
    "from sklearn.preprocessing import StandardScaler\n",
    "import re as re\n",
    "\n",
    "# Ensure all necessary packages are installed\n",
    "%pip install kneed\n",
    "\n",
    "user = getpass.getuser()\n",
    "\n",
    "if user == \"JVARGH7\":\n",
    "    path_equity_precision_llm_folder = \"C:/Cloud/OneDrive - Emory University/Papers/Global Equity in Diabetes Precision Medicine LLM\"\n",
    "    path_equity_precision_llm_repo =  'C:/code/external/equity_precision_llm'\n",
    "\n",
    "elif user == \"aamnasoniwala\":\n",
    "    path_equity_precision_llm_folder = \"/Users/aamnasoniwala/Library/CloudStorage/OneDrive-Emory/Global Equity in Diabetes Precision Medicine LLM\"\n",
    "    path_equity_precision_llm_repo = '/Users/aamnasoniwala/Desktop/equity_precision_llm'\n",
    "\n",
    "else:\n",
    "    raise ValueError(\"Unrecognized user\")\n",
    "\n",
    "excel_path = path_equity_precision_llm_folder + \"/llm training/Methods.xlsx\"\n",
    "# path_equity_precision_llm_repo = os.path.abspath(\"\").replace(\"preprocessing\", \"\")\n"
   ]
  },
  {
   "cell_type": "code",
   "execution_count": 7,
   "metadata": {},
   "outputs": [],
   "source": [
    "api_key_epl_shared = \"\"\n",
    "\n",
    "from openai import OpenAI\n",
    "# https://stackoverflow.com/questions/36959031/how-to-source-file-into-python-script\n",
    "execfile(path_equity_precision_llm_repo + \"/constants.py\")\n"
   ]
  },
  {
   "cell_type": "code",
   "execution_count": 9,
   "metadata": {},
   "outputs": [
    {
     "name": "stdout",
     "output_type": "stream",
     "text": [
      "I am going to outline inclusion criteria for three categories: diabetes, precision medicine, and primary study. \n",
      "\n",
      "Please wait for me to prompt you on what to do based on these criteria.  \n",
      "Here are the inclusion criteria:  \n",
      "\n",
      "DIABETES: Do not exclude any type of diabetes or prediabetes. The presence of certain conditions or risk factors may not definitively confirm that the study is related to diabetes or prediabetes, unless there is a clear link to diabetes pathophysiology, diagnosis, or management. \n",
      "\n",
      "PRECISION MEDICINE: Precision medicine is an assessment of genetic or metabolic state to guide preventive and therapeutic decisions in humans. Exclude epidemiological studies using traditional biomarkers only, focusing on omics (genomics, metabolomics, proteomics, lipidomics etc.) or multi-omics studies. \n",
      "\n",
      "PRIMARY STUDY: All types of studies, other than meta-analysis and systematic reviews, were evaluated as primary studies. Although it may bias the studies towards counting contributions of large biorepositories, secondary analysis of previously collected datasets was also included since these generate novel insights into the pathophysiology of diabetes for source populations that these biorepositories sample from.  \n",
      "Based on the PMID, title, abstract, and MeSH terms below and the previously described inclusion criteria, identify using 'yes' or 'no' as categorizations if the article fulfills the criteria for precision medicine, diabetes, and primary study. \n",
      "\n",
      "PMID: 22744164\n",
      "\n",
      "Title: Acculturation and glycemic control of Asian Indian adults with type 2 diabetes \n",
      "\n",
      "Abstract: The prevalence of type 2 diabetes is disproportionately high among Asian Indians (AI), one of the fastest growing immigrant groups in the United States (US). Poorly controlled diabetes associated with inadequate self-management increases complications and thus medical costs. Acculturation may be an important determinant of diabetes self-management and hence control. This study examined the association between the degree of acculturation and glycemic control as measured by Hemoglobin A1c in AI adults with type 2 diabetes. A mixed method (quantitative and qualitative) study was conducted among 30 AI adults with type 2 diabetes. Acculturation assessment using the Suinn-Lew Asian Self-identity Instrument was followed by socio-demographic questions, self-reported anthropometric measures, and open ended diabetes self-care questions. A two-step multiple regression analysis and content analysis of verbatim interview transcriptions were conducted. Interactions of acculturation with body mass index (interaction b = 1.11; p = 0.01), annual household income (interaction b = 7.19; p = .01), and diabetes duration (interaction b = .30; p = .02) significantly predicted higher HbA1c levels (R(2) change = .368; F change = 4.21; p = .02). From the qualitative interviews, the following were regarded as US specific facilitators for glycemic control: excellent health care system and facilities, availability of healthy food choices and self-monitoring devices, medical insurance benefits, good quality medications, and improved health awareness. Cultural orientation might be important for patient tailored interventions targeting AI with type 2 diabetes. Therefore, interventions targeted at Asian Indians with diabetes should include culture specific adaptations to nutrition education and support.    \n",
      "\n",
      "MeSH: Acculturation*; Asian / psychology; Asian / statistics & numerical data*; Body Mass Index; Diabetes Mellitus, Type 2 / ethnology; Diabetes Mellitus, Type 2 / therapy*; Diet / statistics & numerical data; Female; Glycated Hemoglobin / analysis; Humans; Income / statistics & numerical data; India / ethnology; Male; Middle Aged; Self Care / statistics & numerical data; United States   \n",
      "\n",
      "Organize your analysis of this abstract in a table, with the following columns: PMID, title, precision medicine, diabetes, primary study. Please provide evidence directly from the PMID, title, abstract, and MeSH terms to justify your classifications. \n",
      "Now identify the source population. The correct source population is based on the study participants' racial/ethnic background, regardless of geographic location, and refers to humans specifically. Exclude plants and therapeutics that may originate in the region and non-human animal models. The options are humans descending from Central Asia (CA), Central and Eastern Europe (CEE), East Asia (EA), Latin America & Caribbean (LAC), Middle East & North Africa (MENA), South East Asia & Pacific Islands (SEAP), South Asia (SA), Sub-Saharan Africa (SSA), the United States of America and Canada (NA), or Western Europe (WE). \n",
      "\n",
      "Add the classification of the source population to the table in a separate column. You may only use the abbreviation of the source populations provided. \n"
     ]
    }
   ],
   "source": [
    "execfile(path_equity_precision_llm_repo + \"/functions/prompt_generator.py\")\n",
    "execfile(path_equity_precision_llm_repo + \"/functions/base_prompt_append.py\")\n",
    "\n",
    "\n",
    "base_prompt_files = ['p1v6', 'p2v6', 'p3v6','p4v6']\n",
    "base_prompts = base_prompt_append(base_prompt_files)\n",
    "\n",
    "prompt_pmid = prompt_generator(22744164, base_prompts, excel_path)\n",
    "\n",
    "\n",
    "print(base_prompts[0])\n",
    "print(base_prompts[1])\n",
    "print(prompt_pmid)\n",
    "print(base_prompts[3])"
   ]
  },
  {
   "cell_type": "code",
   "execution_count": 16,
   "metadata": {},
   "outputs": [],
   "source": [
    "# https://platform.openai.com/docs/api-reference/chat/create?lang=python\n",
    "\n",
    "client = OpenAI(api_key= api_key_epl_shared)\n",
    "\n",
    "completion = client.chat.completions.create(\n",
    "\n",
    "    model=\"gpt-4o-mini-2024-07-18\",\n",
    "\n",
    "    messages=[\n",
    "\n",
    "        {\"role\": \"system\", \"content\": base_prompts[0]},\n",
    "        {\"role\": \"system\", \"content\": base_prompts[1]},\n",
    "        {\"role\": \"user\", \"content\": prompt_pmid},\n",
    "        {\"role\": \"user\", \"content\": base_prompts[3]}\n",
    "\n",
    "    ],\n",
    "    temperature= 0.2,\n",
    "    max_tokens = 1000\n",
    "\n",
    ")\n",
    "\n",
    "\n"
   ]
  },
  {
   "cell_type": "code",
   "execution_count": 17,
   "metadata": {},
   "outputs": [
    {
     "name": "stdout",
     "output_type": "stream",
     "text": [
      "ChatCompletionMessage(content='Here is the analysis of the abstract organized in a table format:\\n\\n| PMID      | Title                                                       | Precision Medicine | Diabetes | Primary Study | Source Population |\\n|-----------|-------------------------------------------------------------|--------------------|---------|---------------|-------------------|\\n| 22744164  | Acculturation and glycemic control of Asian Indian adults with type 2 diabetes | No                 | Yes     | Yes           | SA                |\\n\\n### Justifications:\\n- **Precision Medicine**: The study does not focus on genetic or metabolic assessments to guide therapeutic decisions but rather examines the association between acculturation and glycemic control. Therefore, it does not fulfill the precision medicine criteria (No).\\n  \\n- **Diabetes**: The study explicitly involves participants with type 2 diabetes and discusses glycemic control, which is directly related to diabetes management. Thus, it fulfills the diabetes criteria (Yes).\\n  \\n- **Primary Study**: The study is a mixed-methods research involving both quantitative and qualitative data collection and analysis, which qualifies it as a primary study (Yes).\\n  \\n- **Source Population**: The participants are Asian Indian adults, which falls under the category of South Asia (SA).', refusal=None, role='assistant', audio=None, function_call=None, tool_calls=None)\n"
     ]
    }
   ],
   "source": [
    "print(completion.choices[0].message)"
   ]
  },
  {
   "cell_type": "markdown",
   "metadata": {},
   "source": [
    "### 1. Preparing Your Batch File\n",
    "\n",
    "https://platform.openai.com/docs/guides/batch\n",
    "\n",
    ".jsonl file where each line contains the details of an individual request to the API\n",
    "\n",
    "Each request must include a custom_id value\n",
    "\n",
    "{\"custom_id\": \"request-1\", \"method\": \"POST\", \"url\": \"/v1/chat/completions\", \"body\": {\"model\": \"gpt-3.5-turbo-0125\", \"messages\": [{\"role\": \"system\", \"content\": \"You are a helpful assistant.\"},{\"role\": \"user\", \"content\": \"Hello world!\"}],\"max_tokens\": 1000}}\n",
    "\n",
    "\n",
    "{\"custom_id\": \"request-2\", \"method\": \"POST\", \"url\": \"/v1/chat/completions\", \"body\": {\"model\": \"gpt-3.5-turbo-0125\", \"messages\": [{\"role\": \"system\", \"content\": \"You are an unhelpful assistant.\"},{\"role\": \"user\", \"content\": \"Hello world!\"}],\"max_tokens\": 1000}}"
   ]
  },
  {
   "cell_type": "code",
   "execution_count": 153,
   "metadata": {},
   "outputs": [],
   "source": [
    "pmid_list = pd.read_excel(excel_path, sheet_name='Training Data')['PMID'].tolist()\n",
    "\n",
    "json_list = []\n",
    "\n",
    "for index, pmid in enumerate(pmid_list):\n",
    "    prompt_pmid = prompt_generator(pmid, base_prompts, excel_path)\n",
    "    dict_pmid = {\"custom_id\": str(index) + \"_\" + str(pmid), \n",
    "                 \"method\": \"POST\", \n",
    "                 \"url\": \"/v1/chat/completions\", \n",
    "                 \"body\": {\"model\": \"gpt-4o-mini-2024-07-18\", \n",
    "                          \"messages\": [ {\"role\": \"system\", \"content\": base_prompts[0]},\n",
    "                                        {\"role\": \"system\", \"content\": base_prompts[1]},\n",
    "                                        {\"role\": \"user\", \"content\": prompt_pmid},\n",
    "                                        {\"role\": \"user\", \"content\": base_prompts[3]}],\n",
    "                            \"max_tokens\": 1000,\n",
    "                            \"temperature\": 0.2\n",
    "                        }\n",
    "                }\n",
    "\n",
    "    json_list.append(dict_pmid)\n",
    "\n"
   ]
  },
  {
   "cell_type": "code",
   "execution_count": 154,
   "metadata": {},
   "outputs": [],
   "source": [
    "import json\n",
    "with open(path_equity_precision_llm_folder + '\\llm training\\Training.jsonl', 'w') as outfile:\n",
    "    for entry in json_list:\n",
    "        json_line = json.dumps(entry)\n",
    "        outfile.write(json_line + '\\n')"
   ]
  },
  {
   "cell_type": "markdown",
   "metadata": {},
   "source": [
    "### 2. Uploading Your Batch Input File"
   ]
  },
  {
   "cell_type": "code",
   "execution_count": 8,
   "metadata": {},
   "outputs": [],
   "source": [
    "client = OpenAI(api_key= api_key_epl_shared)\n",
    "\n",
    "batch_input_file = client.files.create(\n",
    "  file=open(path_equity_precision_llm_folder + '\\llm training\\Training.jsonl', \"rb\"),\n",
    "  purpose=\"batch\"\n",
    ")\n",
    "\n"
   ]
  },
  {
   "cell_type": "markdown",
   "metadata": {},
   "source": [
    "### 3. Creating the Batch"
   ]
  },
  {
   "cell_type": "code",
   "execution_count": 9,
   "metadata": {},
   "outputs": [
    {
     "name": "stdout",
     "output_type": "stream",
     "text": [
      "file-Qq6iRkY18WUe2SVNNhQkwg\n"
     ]
    }
   ],
   "source": [
    "batch_input_file_id = batch_input_file.id\n",
    "print(batch_input_file_id)\n",
    "batch_created = client.batches.create(\n",
    "    input_file_id=batch_input_file_id,\n",
    "    endpoint=\"/v1/chat/completions\",\n",
    "    completion_window=\"24h\",\n",
    "    metadata={\n",
    "      \"description\": \"training data for PMID query\"\n",
    "    }\n",
    ")\n",
    "\n"
   ]
  },
  {
   "cell_type": "code",
   "execution_count": 14,
   "metadata": {},
   "outputs": [],
   "source": [
    "batches_file_path = path_equity_precision_llm_repo + \"/Batches.txt\"\n",
    "\n",
    "if not os.path.exists(batches_file_path):\n",
    "    with open(batches_file_path, \"w\") as f:\n",
    "        pass\n",
    "\n",
    "with open(batches_file_path, \"a\") as f:\n",
    "    f.write(\"\\n\")\n",
    "    current_time = datetime.datetime.now()\n",
    "    f.write(f\"# {current_time}\\n\")\n",
    "    f.write(f\"batch_created_id = '{batch_created.id}'\\n\")\n",
    "\n",
    "batch_created_id = batch_created.id\n"
   ]
  },
  {
   "cell_type": "markdown",
   "metadata": {},
   "source": [
    "### 4. Checking the Status of a Batch"
   ]
  },
  {
   "cell_type": "code",
   "execution_count": 10,
   "metadata": {},
   "outputs": [
    {
     "data": {
      "text/plain": [
       "'completed'"
      ]
     },
     "execution_count": 10,
     "metadata": {},
     "output_type": "execute_result"
    }
   ],
   "source": [
    "# batch_created_id = 'batch_675d9dc3f25881909544964060c659c3'\n",
    "client = OpenAI(api_key= api_key_epl_shared)\n",
    "\n",
    "batch_status = client.batches.retrieve(batch_created_id)\n",
    "batch_status.status"
   ]
  },
  {
   "cell_type": "markdown",
   "metadata": {},
   "source": [
    "### 5. Retrieving the Results"
   ]
  },
  {
   "cell_type": "code",
   "execution_count": 11,
   "metadata": {},
   "outputs": [],
   "source": [
    "client = OpenAI(api_key= api_key_epl_shared)\n",
    "\n",
    "file_response = client.files.content(batch_status.output_file_id)\n"
   ]
  },
  {
   "cell_type": "code",
   "execution_count": 12,
   "metadata": {},
   "outputs": [
    {
     "name": "stderr",
     "output_type": "stream",
     "text": [
      "C:\\Users\\jvargh7\\AppData\\Local\\Temp\\ipykernel_15392\\2072004814.py:3: FutureWarning: Passing literal json to 'read_json' is deprecated and will be removed in a future version. To read from a literal string, wrap it in a 'StringIO' object.\n",
      "  df = pd.read_json(file_response.content.decode('utf-8'), lines=True)\n"
     ]
    }
   ],
   "source": [
    "import pandas as pd\n",
    "\n",
    "df = pd.read_json(file_response.content.decode('utf-8'), lines=True)\n",
    "\n",
    "\n"
   ]
  },
  {
   "cell_type": "code",
   "execution_count": 13,
   "metadata": {},
   "outputs": [
    {
     "data": {
      "text/html": [
       "<div>\n",
       "<style scoped>\n",
       "    .dataframe tbody tr th:only-of-type {\n",
       "        vertical-align: middle;\n",
       "    }\n",
       "\n",
       "    .dataframe tbody tr th {\n",
       "        vertical-align: top;\n",
       "    }\n",
       "\n",
       "    .dataframe thead th {\n",
       "        text-align: right;\n",
       "    }\n",
       "</style>\n",
       "<table border=\"1\" class=\"dataframe\">\n",
       "  <thead>\n",
       "    <tr style=\"text-align: right;\">\n",
       "      <th></th>\n",
       "      <th>id</th>\n",
       "      <th>custom_id</th>\n",
       "      <th>response</th>\n",
       "      <th>error</th>\n",
       "    </tr>\n",
       "  </thead>\n",
       "  <tbody>\n",
       "    <tr>\n",
       "      <th>0</th>\n",
       "      <td>batch_req_675da0e1d74481908c436550f9e0e03e</td>\n",
       "      <td>22744164</td>\n",
       "      <td>{'status_code': 200, 'request_id': '6196abeb0f...</td>\n",
       "      <td>NaN</td>\n",
       "    </tr>\n",
       "    <tr>\n",
       "      <th>1</th>\n",
       "      <td>batch_req_675da0e1e7f88190a48c04dd2fa1d620</td>\n",
       "      <td>115561964</td>\n",
       "      <td>{'status_code': 200, 'request_id': 'de5f29cc0a...</td>\n",
       "      <td>NaN</td>\n",
       "    </tr>\n",
       "    <tr>\n",
       "      <th>2</th>\n",
       "      <td>batch_req_675da0e1f9448190ac58f1499e3b1581</td>\n",
       "      <td>228770629</td>\n",
       "      <td>{'status_code': 200, 'request_id': 'efc0d81bee...</td>\n",
       "      <td>NaN</td>\n",
       "    </tr>\n",
       "    <tr>\n",
       "      <th>3</th>\n",
       "      <td>batch_req_675da0e20ffc819097a40762d8e30cf3</td>\n",
       "      <td>333764184</td>\n",
       "      <td>{'status_code': 200, 'request_id': 'dc2244f3b5...</td>\n",
       "      <td>NaN</td>\n",
       "    </tr>\n",
       "    <tr>\n",
       "      <th>4</th>\n",
       "      <td>batch_req_675da0e2274c8190a8da45f01519a53a</td>\n",
       "      <td>436155119</td>\n",
       "      <td>{'status_code': 200, 'request_id': '7d2c5e378c...</td>\n",
       "      <td>NaN</td>\n",
       "    </tr>\n",
       "  </tbody>\n",
       "</table>\n",
       "</div>"
      ],
      "text/plain": [
       "                                           id  custom_id  \\\n",
       "0  batch_req_675da0e1d74481908c436550f9e0e03e   22744164   \n",
       "1  batch_req_675da0e1e7f88190a48c04dd2fa1d620  115561964   \n",
       "2  batch_req_675da0e1f9448190ac58f1499e3b1581  228770629   \n",
       "3  batch_req_675da0e20ffc819097a40762d8e30cf3  333764184   \n",
       "4  batch_req_675da0e2274c8190a8da45f01519a53a  436155119   \n",
       "\n",
       "                                            response  error  \n",
       "0  {'status_code': 200, 'request_id': '6196abeb0f...    NaN  \n",
       "1  {'status_code': 200, 'request_id': 'de5f29cc0a...    NaN  \n",
       "2  {'status_code': 200, 'request_id': 'efc0d81bee...    NaN  \n",
       "3  {'status_code': 200, 'request_id': 'dc2244f3b5...    NaN  \n",
       "4  {'status_code': 200, 'request_id': '7d2c5e378c...    NaN  "
      ]
     },
     "execution_count": 13,
     "metadata": {},
     "output_type": "execute_result"
    }
   ],
   "source": [
    "df.head()"
   ]
  },
  {
   "cell_type": "code",
   "execution_count": 14,
   "metadata": {},
   "outputs": [
    {
     "data": {
      "text/plain": [
       "'Here\\'s the analysis of the abstract in table format:\\n\\n| PMID      | Title                                                                                                  | Precision Medicine | Diabetes | Primary Study | Source Population |\\n|-----------|--------------------------------------------------------------------------------------------------------|--------------------|---------|---------------|-------------------|\\n| 33764184  | Gastrodin protects against high glucose-induced cardiomyocyte toxicity via GSK-3beta-mediated nuclear translocation of Nrf2 | Yes                | Yes     | Yes           | UNK               |\\n\\n### Justifications:\\n- **Precision Medicine**: Classified as \\'yes\\' because the study investigates the effects of Gastrodin on cellular responses related to high glucose conditions, which aligns with precision medicine\\'s assessment of metabolic states to guide treatment.\\n- **Diabetes**: Classified as \\'yes\\' because the abstract explicitly mentions \"Diabetic cardiomyopathy (DCM)\" and addresses high glucose-induced injuries, linking it clearly to diabetes pathophysiology.\\n- **Primary Study**: Classified as \\'yes\\' because the study is based on experimental work with H9c2 and HL-1 cardiac cell lines indicating original research rather than a systematic review or meta-analysis.\\n- **Source Population**: Classified as \\'UNK\\' because the study does not mention human participants directly, and the research focuses on cell lines (rat and mouse cardiomyocytes) without specifying a human population, leading to an unspecified origin classification.'"
      ]
     },
     "execution_count": 14,
     "metadata": {},
     "output_type": "execute_result"
    }
   ],
   "source": [
    "df['response'][3]['body']['choices'][0]['message']['content']"
   ]
  },
  {
   "cell_type": "code",
   "execution_count": 15,
   "metadata": {},
   "outputs": [
    {
     "data": {
      "text/html": [
       "<div>\n",
       "<style scoped>\n",
       "    .dataframe tbody tr th:only-of-type {\n",
       "        vertical-align: middle;\n",
       "    }\n",
       "\n",
       "    .dataframe tbody tr th {\n",
       "        vertical-align: top;\n",
       "    }\n",
       "\n",
       "    .dataframe thead th {\n",
       "        text-align: right;\n",
       "    }\n",
       "</style>\n",
       "<table border=\"1\" class=\"dataframe\">\n",
       "  <thead>\n",
       "    <tr style=\"text-align: right;\">\n",
       "      <th></th>\n",
       "      <th>pmid</th>\n",
       "      <th>title</th>\n",
       "      <th>gpt_precision_medicine</th>\n",
       "      <th>gpt_diabetes</th>\n",
       "      <th>gpt_primary_study</th>\n",
       "      <th>gpt_source_population</th>\n",
       "    </tr>\n",
       "  </thead>\n",
       "  <tbody>\n",
       "    <tr>\n",
       "      <th>1</th>\n",
       "      <td>22744164</td>\n",
       "      <td>Acculturation and glycemic control of Asian I...</td>\n",
       "      <td>no</td>\n",
       "      <td>yes</td>\n",
       "      <td>yes</td>\n",
       "      <td>sa</td>\n",
       "    </tr>\n",
       "    <tr>\n",
       "      <th>1</th>\n",
       "      <td>15561964</td>\n",
       "      <td>Linkage analysis of diabetes status among hyp...</td>\n",
       "      <td>yes</td>\n",
       "      <td>yes</td>\n",
       "      <td>yes</td>\n",
       "      <td>na</td>\n",
       "    </tr>\n",
       "    <tr>\n",
       "      <th>1</th>\n",
       "      <td>28770629</td>\n",
       "      <td>Ipragliflozin, a sodium glucose co-transporte...</td>\n",
       "      <td>no</td>\n",
       "      <td>yes</td>\n",
       "      <td>yes</td>\n",
       "      <td>ea</td>\n",
       "    </tr>\n",
       "    <tr>\n",
       "      <th>1</th>\n",
       "      <td>33764184</td>\n",
       "      <td>Gastrodin protects against high glucose-induc...</td>\n",
       "      <td>yes</td>\n",
       "      <td>yes</td>\n",
       "      <td>yes</td>\n",
       "      <td>unk</td>\n",
       "    </tr>\n",
       "    <tr>\n",
       "      <th>1</th>\n",
       "      <td>36155119</td>\n",
       "      <td>Curcumin supplementation reduces blood glucos...</td>\n",
       "      <td>no</td>\n",
       "      <td>yes</td>\n",
       "      <td>yes</td>\n",
       "      <td>lac</td>\n",
       "    </tr>\n",
       "  </tbody>\n",
       "</table>\n",
       "</div>"
      ],
      "text/plain": [
       "       pmid                                              title  \\\n",
       "1  22744164   Acculturation and glycemic control of Asian I...   \n",
       "1  15561964   Linkage analysis of diabetes status among hyp...   \n",
       "1  28770629   Ipragliflozin, a sodium glucose co-transporte...   \n",
       "1  33764184   Gastrodin protects against high glucose-induc...   \n",
       "1  36155119   Curcumin supplementation reduces blood glucos...   \n",
       "\n",
       "  gpt_precision_medicine gpt_diabetes gpt_primary_study gpt_source_population  \n",
       "1                     no          yes               yes                    sa  \n",
       "1                    yes          yes               yes                    na  \n",
       "1                     no          yes               yes                    ea  \n",
       "1                    yes          yes               yes                   unk  \n",
       "1                     no          yes               yes                   lac  "
      ]
     },
     "execution_count": 15,
     "metadata": {},
     "output_type": "execute_result"
    }
   ],
   "source": [
    "\n",
    "results = pd.DataFrame()\n",
    "for index in range(len(df)):\n",
    "    markdown_table = df['response'][index]['body']['choices'][0]['message']['content']\n",
    "    out = pd.read_csv(pd.io.common.StringIO(markdown_table.split('\\n\\n')[1]), \n",
    "                      sep=\"|\", skipinitialspace=False, \n",
    "                      skipfooter=0, engine='python',header=0)\n",
    "\n",
    "    out.columns = out.columns.str.lower().str.strip().str.replace('**', '')\n",
    "    results = pd.concat([results,out.iloc[[1]]])\n",
    "    \n",
    "results = results.filter(regex=r'^(?!unnamed)')\n",
    "\n",
    "\n",
    "# Rename 'precision medicine' as 'precision_medicine'\n",
    "results = results.rename(columns={'precision medicine': 'gpt_precision_medicine', \n",
    "                                  'diabetes': 'gpt_diabetes', \n",
    "                                  'primary study': 'gpt_primary_study', \n",
    "                                  'source population': 'gpt_source_population'})\n",
    "results['pmid'] = results['pmid'].astype('int32')\n",
    "# Convert to lower to match\n",
    "results['gpt_precision_medicine'] = results['gpt_precision_medicine'].str.lower().str.strip()\n",
    "results['gpt_diabetes'] = results['gpt_diabetes'].str.lower().str.strip()\n",
    "results['gpt_primary_study'] = results['gpt_primary_study'].str.lower().str.strip()\n",
    "results['gpt_source_population'] = results['gpt_source_population'].str.lower().str.strip()\n",
    "\n",
    "\n",
    "results.head()\n",
    "\n",
    "results.to_csv(path_equity_precision_llm_folder + '\\llm training\\Training_results.csv', index=False)\n",
    "results.head()\n"
   ]
  },
  {
   "cell_type": "code",
   "execution_count": 16,
   "metadata": {},
   "outputs": [
    {
     "name": "stdout",
     "output_type": "stream",
     "text": [
      "['no' 'yes']\n"
     ]
    }
   ],
   "source": [
    "\n",
    "print(results['gpt_precision_medicine'].unique())\n"
   ]
  }
 ],
 "metadata": {
  "kernelspec": {
   "display_name": "Python 3",
   "language": "python",
   "name": "python3"
  },
  "language_info": {
   "codemirror_mode": {
    "name": "ipython",
    "version": 3
   },
   "file_extension": ".py",
   "mimetype": "text/x-python",
   "name": "python",
   "nbconvert_exporter": "python",
   "pygments_lexer": "ipython3",
   "version": "3.13.0"
  }
 },
 "nbformat": 4,
 "nbformat_minor": 2
}
