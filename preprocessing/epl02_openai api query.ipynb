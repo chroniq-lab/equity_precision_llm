{
 "cells": [
  {
   "cell_type": "markdown",
   "metadata": {},
   "source": [
    "### How to access the OpenAI application programming interface"
   ]
  },
  {
   "cell_type": "markdown",
   "metadata": {},
   "source": [
    "In your command prompt window:\n",
    ">> pip install openai\n",
    "\n",
    "https://help.openai.com/en/articles/5112595-best-practices-for-api-key-safety\n",
    "\n"
   ]
  },
  {
   "cell_type": "code",
   "execution_count": 2,
   "metadata": {},
   "outputs": [],
   "source": [
    "import os\n",
    "path_equity_precision_llm_repo = os.path.abspath(\"\").replace(\"preprocessing\", \"\")"
   ]
  },
  {
   "cell_type": "code",
   "execution_count": 6,
   "metadata": {},
   "outputs": [],
   "source": [
    "api_key_epl_shared = \"\"\n",
    "\n",
    "from openai import OpenAI\n",
    "# https://stackoverflow.com/questions/36959031/how-to-source-file-into-python-script\n",
    "execfile(path_equity_precision_llm_repo + \"/constants.py\")\n"
   ]
  },
  {
   "cell_type": "code",
   "execution_count": 11,
   "metadata": {},
   "outputs": [
    {
     "name": "stdout",
     "output_type": "stream",
     "text": [
      "I am going to outline inclusion criteria for four categories: diabetes, precision medicine, source population, and primary study. \n",
      "\n",
      "Please wait for me to prompt you on what to do based on these criteria.  \n",
      "Here are the inclusion criteria:  \n",
      "\n",
      "DIABETES: Do not exclude any type of diabetes or prediabetes. The presence of certain conditions or risk factors may not definitively confirm that the study is related to diabetes or prediabetes, unless there is a clear link to diabetes pathophysiology, diagnosis, or management. \n",
      "\n",
      "PRECISION MEDICINE: Precision medicine is an assessment of genetic or metabolic state to guide preventive and therapeutic decisions in humans. Exclude epidemiological studies using traditional biomarkers only, focusing on omics (genomics, metabolomics, proteomics, lipidomics etc.) or multi-omics studies. \n",
      "\n",
      "SOURCE POPULATION: The source population is correct if the population based on the prompt and the study participantsâ€™ racial/ethnic background, regardless of geographic location, are the same. The source population refers to humans specifically, excluding plants and therapeutics that may originate in the GBD region and non-human animal models. The options are people descending from Central Asia (CA), Central and Eastern Europe (CEE), East Asia (EA), Latin America & Caribbean (LAC), Middle East & North Africa (MENA), South East Asia & Pacific Islands (SEAP), South Asia (SA), Sub-Saharan Africa (SSA), the United States of America and Canada (NA), or Western Europe (WE). \n",
      "\n",
      "PRIMARY STUDY: All types of studies, other than meta-analysis and systematic reviews, were evaluated as primary studies. Although it may bias the studies towards counting contributions of large biorepositories, secondary analysis of previously collected datasets was also included since these generate novel insights into the pathophysiology of diabetes for source populations that these biorepositories sample from.  \n",
      "Based on the title, abstract, and MeSH terms below and the previously described inclusion criteria, identify using 'yes' or 'no' as categorizations if the article fulfills the criteria for precision medicine, diabetes, and primary study. Additionally, identify what the source population is based on the options provided in the inclusion criteria. \n",
      "\n",
      "PMID: 22744164\n",
      "\n",
      "Title: Acculturation and glycemic control of Asian Indian adults with type 2 diabetes\n",
      "\n",
      "Abstract: The prevalence of type 2 diabetes is disproportionately high among Asian Indians (AI), one of the fastest growing immigrant groups in the United States (US). Poorly controlled diabetes associated with inadequate self-management increases complications and thus medical costs. Acculturation may be an important determinant of diabetes self-management and hence control. This study examined the association between the degree of acculturation and glycemic control as measured by Hemoglobin A1c in AI adults with type 2 diabetes. A mixed method (quantitative and qualitative) study was conducted among 30 AI adults with type 2 diabetes. Acculturation assessment using the Suinn-Lew Asian Self-identity Instrument was followed by socio-demographic questions, self-reported anthropometric measures, and open ended diabetes self-care questions. A two-step multiple regression analysis and content analysis of verbatim interview transcriptions were conducted. Interactions of acculturation with body mass index (interaction b = 1.11; p = 0.01), annual household income (interaction b = 7.19; p = .01), and diabetes duration (interaction b = .30; p = .02) significantly predicted higher HbA1c levels (R(2) change = .368; F change = 4.21; p = .02). From the qualitative interviews, the following were regarded as US specific facilitators for glycemic control: excellent health care system and facilities, availability of healthy food choices and self-monitoring devices, medical insurance benefits, good quality medications, and improved health awareness. Cultural orientation might be important for patient tailored interventions targeting AI with type 2 diabetes. Therefore, interventions targeted at Asian Indians with diabetes should include culture specific adaptations to nutrition education and support.    \n",
      "\n",
      "MeSH: Acculturation*; Asian / psychology; Asian / statistics & numerical data*; Body Mass Index; Diabetes Mellitus, Type 2 / ethnology; Diabetes Mellitus, Type 2 / therapy*; Diet / statistics & numerical data; Female; Glycated Hemoglobin / analysis; Humans; Income / statistics & numerical data; India / ethnology; Male; Middle Aged; Self Care / statistics & numerical data; United States   \n",
      "\n",
      "Organize your analysis of this abstract in a table, with the following columns: pmid (copy from above), title, precision medicine, diabetes, correct source population, primary study. Please provide evidence directly from the title, abstract, and MeSH terms to justify your classifications. \n"
     ]
    }
   ],
   "source": [
    "execfile(\"epl01_prompt generator.py\")\n",
    "prompt_pmid = prompt_generator(22744164, base_prompts, excel_path)\n",
    "\n",
    "\n",
    "print(base_prompts[0])\n",
    "print(base_prompts[1])\n",
    "print(prompt_pmid)"
   ]
  },
  {
   "cell_type": "code",
   "execution_count": 12,
   "metadata": {},
   "outputs": [
    {
     "name": "stdout",
     "output_type": "stream",
     "text": [
      "ChatCompletionMessage(content='| pmid    | title                                          | precision medicine | diabetes | correct source population | primary study |\\n|---------|------------------------------------------------|--------------------|----------|---------------------------|---------------|\\n| 22744164 | Acculturation and glycemic control of Asian    | no                 | yes      | United States (NA)        | yes           |\\n|         | Indian adults with type 2 diabetes              |                    |          |                           |               | \\n\\n- **Precision Medicine**: The study focuses on acculturation and its association with glycemic control in Asian Indian adults with type 2 diabetes in the United States. While the study does not explicitly mention precision medicine or omics technologies, it evaluates the impact of cultural orientation on diabetes management, which does not involve genetic or metabolic assessments for precision medicine interventions.\\n  \\n- **Diabetes**: The study clearly focuses on type 2 diabetes in Asian Indian adults, investigating the relationship between acculturation and glycemic control, providing evidence from the abstract and MeSH terms.\\n\\n- **Correct Source Population**: The study specifically targets Asian Indian adults with type 2 diabetes in the United States, aligning with the correct source population of United States (NA) based on the options provided.\\n\\n- **Primary Study**: The study represents a primary study as it involves conducting a mixed-method study, including quantitative and qualitative analysis among 30 Asian Indian adults with type 2 diabetes, providing new empirical evidence on the association between acculturation and glycemic control.', refusal=None, role='assistant', audio=None, function_call=None, tool_calls=None)\n"
     ]
    }
   ],
   "source": [
    "# https://platform.openai.com/docs/api-reference/chat/create?lang=python\n",
    "\n",
    "client = OpenAI(api_key= api_key_epl_shared)\n",
    "\n",
    "completion = client.chat.completions.create(\n",
    "\n",
    "    model=\"gpt-3.5-turbo\",\n",
    "\n",
    "    messages=[\n",
    "\n",
    "        {\"role\": \"system\", \"content\": base_prompts[0]},\n",
    "        {\"role\": \"system\", \"content\": base_prompts[1]},\n",
    "        {\"role\": \"user\", \"content\": prompt_pmid}\n",
    "\n",
    "    ],\n",
    "\n",
    "    max_tokens = 1000\n",
    "\n",
    ")\n",
    "\n",
    "\n",
    "print(completion.choices[0].message)"
   ]
  },
  {
   "cell_type": "markdown",
   "metadata": {},
   "source": [
    "### 1. Preparing Your Batch File\n",
    "\n",
    "https://platform.openai.com/docs/guides/batch\n",
    "\n",
    ".jsonl file where each line contains the details of an individual request to the API\n",
    "\n",
    "Each request must include a custom_id value\n",
    "\n",
    "{\"custom_id\": \"request-1\", \"method\": \"POST\", \"url\": \"/v1/chat/completions\", \"body\": {\"model\": \"gpt-3.5-turbo-0125\", \"messages\": [{\"role\": \"system\", \"content\": \"You are a helpful assistant.\"},{\"role\": \"user\", \"content\": \"Hello world!\"}],\"max_tokens\": 1000}}\n",
    "\n",
    "\n",
    "{\"custom_id\": \"request-2\", \"method\": \"POST\", \"url\": \"/v1/chat/completions\", \"body\": {\"model\": \"gpt-3.5-turbo-0125\", \"messages\": [{\"role\": \"system\", \"content\": \"You are an unhelpful assistant.\"},{\"role\": \"user\", \"content\": \"Hello world!\"}],\"max_tokens\": 1000}}"
   ]
  },
  {
   "cell_type": "code",
   "execution_count": 13,
   "metadata": {},
   "outputs": [],
   "source": [
    "pmid_list = pd.read_excel(excel_path, sheet_name='Training Data')['PMID'].tolist()\n",
    "\n",
    "json_list = []\n",
    "\n",
    "for index, pmid in enumerate(pmid_list):\n",
    "    prompt_pmid = prompt_generator(pmid, base_prompts, excel_path)\n",
    "    dict_pmid = {\"custom_id\": str(index) + \"_\" + str(pmid), \n",
    "                 \"method\": \"POST\", \n",
    "                 \"url\": \"/v1/chat/completions\", \n",
    "                 \"body\": {\"model\": \"gpt-3.5-turbo-0125\", \n",
    "                          \"messages\": [ {\"role\": \"system\", \"content\": base_prompts[0]},\n",
    "                                        {\"role\": \"system\", \"content\": base_prompts[1]},\n",
    "                                        {\"role\": \"user\", \"content\": prompt_pmid}],\n",
    "                            \"max_tokens\": 1000\n",
    "                        }\n",
    "                }\n",
    "\n",
    "    json_list.append(dict_pmid)\n",
    "\n"
   ]
  },
  {
   "cell_type": "code",
   "execution_count": 15,
   "metadata": {},
   "outputs": [],
   "source": [
    "import json\n",
    "with open(path_equity_precision_llm_folder + '\\llm training\\Training.jsonl', 'w') as outfile:\n",
    "    for entry in json_list:\n",
    "        json_line = json.dumps(entry)\n",
    "        outfile.write(json_line + '\\n')"
   ]
  },
  {
   "cell_type": "markdown",
   "metadata": {},
   "source": [
    "### 2. Uploading Your Batch Input File"
   ]
  },
  {
   "cell_type": "code",
   "execution_count": 16,
   "metadata": {},
   "outputs": [],
   "source": [
    "client = OpenAI(api_key= api_key_epl_shared)\n",
    "\n",
    "batch_input_file = client.files.create(\n",
    "  file=open(path_equity_precision_llm_folder + '\\llm training\\Training.jsonl', \"rb\"),\n",
    "  purpose=\"batch\"\n",
    ")\n",
    "\n"
   ]
  },
  {
   "cell_type": "markdown",
   "metadata": {},
   "source": [
    "### 3. Creating the Batch"
   ]
  },
  {
   "cell_type": "code",
   "execution_count": 23,
   "metadata": {},
   "outputs": [
    {
     "name": "stdout",
     "output_type": "stream",
     "text": [
      "file-59SQmdAF274a0YJwu2HXQ668\n"
     ]
    }
   ],
   "source": [
    "batch_input_file_id = batch_input_file.id\n",
    "print(batch_input_file_id)\n",
    "batch_created = client.batches.create(\n",
    "    input_file_id=batch_input_file_id,\n",
    "    endpoint=\"/v1/chat/completions\",\n",
    "    completion_window=\"24h\",\n",
    "    metadata={\n",
    "      \"description\": \"training data for PMID query\"\n",
    "    }\n",
    ")\n"
   ]
  },
  {
   "cell_type": "markdown",
   "metadata": {},
   "source": [
    "### 4. Checking the Status of a Batch"
   ]
  },
  {
   "cell_type": "code",
   "execution_count": 64,
   "metadata": {},
   "outputs": [
    {
     "data": {
      "text/plain": [
       "'completed'"
      ]
     },
     "execution_count": 64,
     "metadata": {},
     "output_type": "execute_result"
    }
   ],
   "source": [
    "client = OpenAI(api_key= api_key_epl_shared)\n",
    "\n",
    "batch_status = client.batches.retrieve(batch_created.id)\n",
    "batch_status.status"
   ]
  },
  {
   "cell_type": "markdown",
   "metadata": {},
   "source": [
    "### 5. Retrieving the Results"
   ]
  },
  {
   "cell_type": "code",
   "execution_count": 65,
   "metadata": {},
   "outputs": [],
   "source": [
    "client = OpenAI(api_key= api_key_epl_shared)\n",
    "\n",
    "file_response = client.files.content(batch_status.output_file_id)\n"
   ]
  },
  {
   "cell_type": "code",
   "execution_count": 66,
   "metadata": {},
   "outputs": [
    {
     "name": "stderr",
     "output_type": "stream",
     "text": [
      "C:\\Users\\jvargh7\\AppData\\Local\\Temp\\ipykernel_28676\\2072004814.py:3: FutureWarning: Passing literal json to 'read_json' is deprecated and will be removed in a future version. To read from a literal string, wrap it in a 'StringIO' object.\n",
      "  df = pd.read_json(file_response.content.decode('utf-8'), lines=True)\n"
     ]
    }
   ],
   "source": [
    "import pandas as pd\n",
    "\n",
    "df = pd.read_json(file_response.content.decode('utf-8'), lines=True)\n",
    "\n",
    "\n"
   ]
  },
  {
   "cell_type": "code",
   "execution_count": 67,
   "metadata": {},
   "outputs": [
    {
     "data": {
      "text/html": [
       "<div>\n",
       "<style scoped>\n",
       "    .dataframe tbody tr th:only-of-type {\n",
       "        vertical-align: middle;\n",
       "    }\n",
       "\n",
       "    .dataframe tbody tr th {\n",
       "        vertical-align: top;\n",
       "    }\n",
       "\n",
       "    .dataframe thead th {\n",
       "        text-align: right;\n",
       "    }\n",
       "</style>\n",
       "<table border=\"1\" class=\"dataframe\">\n",
       "  <thead>\n",
       "    <tr style=\"text-align: right;\">\n",
       "      <th></th>\n",
       "      <th>id</th>\n",
       "      <th>custom_id</th>\n",
       "      <th>response</th>\n",
       "      <th>error</th>\n",
       "    </tr>\n",
       "  </thead>\n",
       "  <tbody>\n",
       "    <tr>\n",
       "      <th>0</th>\n",
       "      <td>batch_req_67378baaf98081909d4735ec47990630</td>\n",
       "      <td>22744164</td>\n",
       "      <td>{'status_code': 200, 'request_id': 'a33ff4fffa...</td>\n",
       "      <td>NaN</td>\n",
       "    </tr>\n",
       "    <tr>\n",
       "      <th>1</th>\n",
       "      <td>batch_req_67378bab06d88190b6aaaf6dede6b157</td>\n",
       "      <td>115561964</td>\n",
       "      <td>{'status_code': 200, 'request_id': '0716eefcbc...</td>\n",
       "      <td>NaN</td>\n",
       "    </tr>\n",
       "    <tr>\n",
       "      <th>2</th>\n",
       "      <td>batch_req_67378bab13c88190ba7e780166b01d04</td>\n",
       "      <td>228770629</td>\n",
       "      <td>{'status_code': 200, 'request_id': '84793c8a30...</td>\n",
       "      <td>NaN</td>\n",
       "    </tr>\n",
       "    <tr>\n",
       "      <th>3</th>\n",
       "      <td>batch_req_67378bab21288190ab3a38c529f41bea</td>\n",
       "      <td>333764184</td>\n",
       "      <td>{'status_code': 200, 'request_id': '72f7d12a34...</td>\n",
       "      <td>NaN</td>\n",
       "    </tr>\n",
       "    <tr>\n",
       "      <th>4</th>\n",
       "      <td>batch_req_67378bab2ea48190acb4d494b404a1f8</td>\n",
       "      <td>436155119</td>\n",
       "      <td>{'status_code': 200, 'request_id': 'e08cc7a75a...</td>\n",
       "      <td>NaN</td>\n",
       "    </tr>\n",
       "  </tbody>\n",
       "</table>\n",
       "</div>"
      ],
      "text/plain": [
       "                                           id  custom_id  \\\n",
       "0  batch_req_67378baaf98081909d4735ec47990630   22744164   \n",
       "1  batch_req_67378bab06d88190b6aaaf6dede6b157  115561964   \n",
       "2  batch_req_67378bab13c88190ba7e780166b01d04  228770629   \n",
       "3  batch_req_67378bab21288190ab3a38c529f41bea  333764184   \n",
       "4  batch_req_67378bab2ea48190acb4d494b404a1f8  436155119   \n",
       "\n",
       "                                            response  error  \n",
       "0  {'status_code': 200, 'request_id': 'a33ff4fffa...    NaN  \n",
       "1  {'status_code': 200, 'request_id': '0716eefcbc...    NaN  \n",
       "2  {'status_code': 200, 'request_id': '84793c8a30...    NaN  \n",
       "3  {'status_code': 200, 'request_id': '72f7d12a34...    NaN  \n",
       "4  {'status_code': 200, 'request_id': 'e08cc7a75a...    NaN  "
      ]
     },
     "execution_count": 67,
     "metadata": {},
     "output_type": "execute_result"
    }
   ],
   "source": [
    "df.head()"
   ]
  },
  {
   "cell_type": "code",
   "execution_count": 80,
   "metadata": {},
   "outputs": [
    {
     "data": {
      "text/html": [
       "<div>\n",
       "<style scoped>\n",
       "    .dataframe tbody tr th:only-of-type {\n",
       "        vertical-align: middle;\n",
       "    }\n",
       "\n",
       "    .dataframe tbody tr th {\n",
       "        vertical-align: top;\n",
       "    }\n",
       "\n",
       "    .dataframe thead th {\n",
       "        text-align: right;\n",
       "    }\n",
       "</style>\n",
       "<table border=\"1\" class=\"dataframe\">\n",
       "  <thead>\n",
       "    <tr style=\"text-align: right;\">\n",
       "      <th></th>\n",
       "      <th>pmid</th>\n",
       "      <th>title</th>\n",
       "      <th>precision medicine</th>\n",
       "      <th>diabetes</th>\n",
       "      <th>correct source population</th>\n",
       "      <th>primary study</th>\n",
       "    </tr>\n",
       "  </thead>\n",
       "  <tbody>\n",
       "    <tr>\n",
       "      <th>1</th>\n",
       "      <td>22744164</td>\n",
       "      <td>Acculturation and glycemic control of Asian I...</td>\n",
       "      <td>no</td>\n",
       "      <td>yes</td>\n",
       "      <td>South Asia (SA)</td>\n",
       "      <td>yes</td>\n",
       "    </tr>\n",
       "    <tr>\n",
       "      <th>1</th>\n",
       "      <td>15561964</td>\n",
       "      <td>Linkage analysis of diabetes status among hyp...</td>\n",
       "      <td>No</td>\n",
       "      <td>Yes</td>\n",
       "      <td>NA (The article focuses on Caucasian and Afri...</td>\n",
       "      <td>Yes</td>\n",
       "    </tr>\n",
       "    <tr>\n",
       "      <th>1</th>\n",
       "      <td>28770629</td>\n",
       "      <td>Ipragliflozin, a sodium glucose co-transporte...</td>\n",
       "      <td>No</td>\n",
       "      <td>Yes</td>\n",
       "      <td>EA</td>\n",
       "      <td>Yes</td>\n",
       "    </tr>\n",
       "    <tr>\n",
       "      <th>1</th>\n",
       "      <td>33764184</td>\n",
       "      <td>Gastrodin protects against high glucose-induc...</td>\n",
       "      <td>No</td>\n",
       "      <td>Yes</td>\n",
       "      <td>East Asia (EA)</td>\n",
       "      <td>Yes</td>\n",
       "    </tr>\n",
       "    <tr>\n",
       "      <th>1</th>\n",
       "      <td>36155119</td>\n",
       "      <td>Curcumin supplementation reduces blood glucos...</td>\n",
       "      <td>No</td>\n",
       "      <td>Yes</td>\n",
       "      <td>LAC</td>\n",
       "      <td>Yes</td>\n",
       "    </tr>\n",
       "  </tbody>\n",
       "</table>\n",
       "</div>"
      ],
      "text/plain": [
       "          pmid                                              title  \\\n",
       "1    22744164    Acculturation and glycemic control of Asian I...   \n",
       "1    15561964    Linkage analysis of diabetes status among hyp...   \n",
       "1    28770629    Ipragliflozin, a sodium glucose co-transporte...   \n",
       "1    33764184    Gastrodin protects against high glucose-induc...   \n",
       "1   36155119     Curcumin supplementation reduces blood glucos...   \n",
       "\n",
       "     precision medicine    diabetes  \\\n",
       "1   no                    yes         \n",
       "1                   No         Yes    \n",
       "1   No                     Yes        \n",
       "1                   No         Yes    \n",
       "1                  No          Yes    \n",
       "\n",
       "                           correct source population    primary study  \n",
       "1                         South Asia (SA)              yes             \n",
       "1   NA (The article focuses on Caucasian and Afri...             Yes   \n",
       "1                         EA                           Yes             \n",
       "1                                    East Asia (EA)              Yes   \n",
       "1                          LAC                         Yes             "
      ]
     },
     "execution_count": 80,
     "metadata": {},
     "output_type": "execute_result"
    }
   ],
   "source": [
    "\n",
    "results = pd.DataFrame()\n",
    "for index in range(len(df)):\n",
    "    markdown_table = df['response'][index]['body']['choices'][0]['message']['content']\n",
    "    out = pd.read_csv(pd.io.common.StringIO(markdown_table.split('\\n\\n')[0]), \n",
    "                      sep=\"|\", skipinitialspace=False, \n",
    "                      skipfooter=0, engine='python',header=0)\n",
    "    out.columns = out.columns.str.lower().str.strip()\n",
    "    results = pd.concat([results,out.iloc[[1]]])\n",
    "    \n",
    "results = results.filter(regex=r'^(?!unnamed)')\n",
    "\n",
    "results.to_csv(path_equity_precision_llm_folder + '\\llm training\\Training_results.csv', index=False)\n",
    "\n",
    "results.head()"
   ]
  },
  {
   "cell_type": "markdown",
   "metadata": {},
   "source": [
    "### Comparison of ChatGPT API with Training Data\n",
    "\n"
   ]
  },
  {
   "cell_type": "code",
   "execution_count": 81,
   "metadata": {},
   "outputs": [
    {
     "data": {
      "text/html": [
       "<div>\n",
       "<style scoped>\n",
       "    .dataframe tbody tr th:only-of-type {\n",
       "        vertical-align: middle;\n",
       "    }\n",
       "\n",
       "    .dataframe tbody tr th {\n",
       "        vertical-align: top;\n",
       "    }\n",
       "\n",
       "    .dataframe thead th {\n",
       "        text-align: right;\n",
       "    }\n",
       "</style>\n",
       "<table border=\"1\" class=\"dataframe\">\n",
       "  <thead>\n",
       "    <tr style=\"text-align: right;\">\n",
       "      <th></th>\n",
       "      <th>PMID</th>\n",
       "      <th>Title</th>\n",
       "      <th>Abstract</th>\n",
       "      <th>MeSH</th>\n",
       "      <th>Source Population</th>\n",
       "      <th>Precision Medicine</th>\n",
       "      <th>Diabetes</th>\n",
       "      <th>Correct Source Population</th>\n",
       "      <th>Primary Study</th>\n",
       "    </tr>\n",
       "  </thead>\n",
       "  <tbody>\n",
       "    <tr>\n",
       "      <th>0</th>\n",
       "      <td>22744164</td>\n",
       "      <td>Acculturation and glycemic control of Asian In...</td>\n",
       "      <td>The prevalence of type 2 diabetes is dispropor...</td>\n",
       "      <td>Acculturation*; Asian / psychology; Asian / st...</td>\n",
       "      <td>South Asia</td>\n",
       "      <td>No</td>\n",
       "      <td>Yes</td>\n",
       "      <td>Yes</td>\n",
       "      <td>Yes</td>\n",
       "    </tr>\n",
       "    <tr>\n",
       "      <th>1</th>\n",
       "      <td>15561964</td>\n",
       "      <td>Linkage analysis of diabetes status among hype...</td>\n",
       "      <td>Type 2 diabetes susceptibility is determined b...</td>\n",
       "      <td>Chromosome Mapping*; Diabetes Mellitus, Type 2...</td>\n",
       "      <td>South Asia</td>\n",
       "      <td>Yes</td>\n",
       "      <td>Yes</td>\n",
       "      <td>No</td>\n",
       "      <td>Yes</td>\n",
       "    </tr>\n",
       "    <tr>\n",
       "      <th>2</th>\n",
       "      <td>28770629</td>\n",
       "      <td>Ipragliflozin, a sodium glucose co-transporter...</td>\n",
       "      <td>Objective: We recently investigated the effect...</td>\n",
       "      <td>Blood Glucose / analysis; Diabetes Mellitus, T...</td>\n",
       "      <td>East Asia</td>\n",
       "      <td>No</td>\n",
       "      <td>Yes</td>\n",
       "      <td>Yes</td>\n",
       "      <td>Yes</td>\n",
       "    </tr>\n",
       "    <tr>\n",
       "      <th>3</th>\n",
       "      <td>33764184</td>\n",
       "      <td>Gastrodin protects against high glucose-induce...</td>\n",
       "      <td>Diabetic cardiomyopathy (DCM) is one of the ma...</td>\n",
       "      <td>Aryl Hydrocarbon Receptor Nuclear Translocator...</td>\n",
       "      <td>East Asia</td>\n",
       "      <td>No</td>\n",
       "      <td>Yes</td>\n",
       "      <td>No</td>\n",
       "      <td>Yes</td>\n",
       "    </tr>\n",
       "    <tr>\n",
       "      <th>4</th>\n",
       "      <td>36155119</td>\n",
       "      <td>Curcumin supplementation reduces blood glucose...</td>\n",
       "      <td>Objective: To evaluate the effect of curcumin ...</td>\n",
       "      <td>Blood Glucose* / metabolism; Body Mass Index; ...</td>\n",
       "      <td>Latin America &amp; Caribbean</td>\n",
       "      <td>No</td>\n",
       "      <td>No</td>\n",
       "      <td>Yes</td>\n",
       "      <td>Yes</td>\n",
       "    </tr>\n",
       "  </tbody>\n",
       "</table>\n",
       "</div>"
      ],
      "text/plain": [
       "       PMID                                              Title  \\\n",
       "0  22744164  Acculturation and glycemic control of Asian In...   \n",
       "1  15561964  Linkage analysis of diabetes status among hype...   \n",
       "2  28770629  Ipragliflozin, a sodium glucose co-transporter...   \n",
       "3  33764184  Gastrodin protects against high glucose-induce...   \n",
       "4  36155119  Curcumin supplementation reduces blood glucose...   \n",
       "\n",
       "                                            Abstract  \\\n",
       "0  The prevalence of type 2 diabetes is dispropor...   \n",
       "1  Type 2 diabetes susceptibility is determined b...   \n",
       "2  Objective: We recently investigated the effect...   \n",
       "3  Diabetic cardiomyopathy (DCM) is one of the ma...   \n",
       "4  Objective: To evaluate the effect of curcumin ...   \n",
       "\n",
       "                                                MeSH  \\\n",
       "0  Acculturation*; Asian / psychology; Asian / st...   \n",
       "1  Chromosome Mapping*; Diabetes Mellitus, Type 2...   \n",
       "2  Blood Glucose / analysis; Diabetes Mellitus, T...   \n",
       "3  Aryl Hydrocarbon Receptor Nuclear Translocator...   \n",
       "4  Blood Glucose* / metabolism; Body Mass Index; ...   \n",
       "\n",
       "           Source Population Precision Medicine Diabetes  \\\n",
       "0                 South Asia                 No      Yes   \n",
       "1                 South Asia                Yes      Yes   \n",
       "2                  East Asia                 No      Yes   \n",
       "3                  East Asia                 No      Yes   \n",
       "4  Latin America & Caribbean                 No       No   \n",
       "\n",
       "  Correct Source Population Primary Study  \n",
       "0                       Yes           Yes  \n",
       "1                        No           Yes  \n",
       "2                       Yes           Yes  \n",
       "3                        No           Yes  \n",
       "4                       Yes           Yes  "
      ]
     },
     "execution_count": 81,
     "metadata": {},
     "output_type": "execute_result"
    }
   ],
   "source": [
    "input = pd.read_excel(excel_path, sheet_name='Training Data')\n",
    "input.head()\n",
    "\n"
   ]
  },
  {
   "cell_type": "code",
   "execution_count": null,
   "metadata": {},
   "outputs": [],
   "source": []
  }
 ],
 "metadata": {
  "kernelspec": {
   "display_name": "Python 3",
   "language": "python",
   "name": "python3"
  },
  "language_info": {
   "codemirror_mode": {
    "name": "ipython",
    "version": 3
   },
   "file_extension": ".py",
   "mimetype": "text/x-python",
   "name": "python",
   "nbconvert_exporter": "python",
   "pygments_lexer": "ipython3",
   "version": "3.11.4"
  }
 },
 "nbformat": 4,
 "nbformat_minor": 2
}
